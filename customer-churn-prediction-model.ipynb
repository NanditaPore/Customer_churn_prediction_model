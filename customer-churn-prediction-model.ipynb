{
 "cells": [
  {
   "cell_type": "markdown",
   "id": "7ef532df",
   "metadata": {
    "papermill": {
     "duration": 0.008291,
     "end_time": "2024-11-21T14:08:04.162472",
     "exception": false,
     "start_time": "2024-11-21T14:08:04.154181",
     "status": "completed"
    },
    "tags": []
   },
   "source": [
    "**Customer Churn Prediction Model**"
   ]
  },
  {
   "cell_type": "markdown",
   "id": "bd7ce9aa",
   "metadata": {
    "papermill": {
     "duration": 0.0071,
     "end_time": "2024-11-21T14:08:04.178692",
     "exception": false,
     "start_time": "2024-11-21T14:08:04.171592",
     "status": "completed"
    },
    "tags": []
   },
   "source": [
    "**1. Importing Dependencies**\n",
    "\n",
    "* Pandas:Python Library provides Data Structure like DataFrame.\n",
    "* Numpy:It is used in numerical computation of dataset.\n",
    "\n",
    "*Scikit Learn also known as sklearn*\n",
    "\n",
    "*Sklearn Modules*\n",
    "\n",
    "* train_test_split: Used for spliting data into trainig and validating sets.\n",
    "* RandomForestClassifier :Classification model that combines the prediction of decision trees in series.\n",
    "* GradientBoostingClassifier: Classification model that combines the prediction of decision trees in sequence.\n",
    "* accuracy_score:Measures the proportion of correct predictions.\n",
    "* classifictaion_report:Generates report displaying Presicion, recall, F1score and support that helps in evaluating the classification model.\n",
    "* confusion_matrix:Evaluate the performale by camparing actual and predictions values.\n",
    "* StandardScaler: Preprocesses data by standardizing data to mean and scaling to unit varaince.\n",
    "* LabelEncoder: Converts the categorical varaible into numberical value."
   ]
  },
  {
   "cell_type": "code",
   "execution_count": 1,
   "id": "d49fb00a",
   "metadata": {
    "execution": {
     "iopub.execute_input": "2024-11-21T14:08:04.196213Z",
     "iopub.status.busy": "2024-11-21T14:08:04.195670Z",
     "iopub.status.idle": "2024-11-21T14:08:07.119084Z",
     "shell.execute_reply": "2024-11-21T14:08:07.118051Z"
    },
    "papermill": {
     "duration": 2.934698,
     "end_time": "2024-11-21T14:08:07.121586",
     "exception": false,
     "start_time": "2024-11-21T14:08:04.186888",
     "status": "completed"
    },
    "tags": []
   },
   "outputs": [],
   "source": [
    "import pandas as pd\n",
    "import numpy as np\n",
    "from sklearn.model_selection import train_test_split\n",
    "from sklearn.ensemble import RandomForestClassifier , GradientBoostingClassifier\n",
    "from sklearn.metrics import accuracy_score,classification_report ,confusion_matrix\n",
    "from sklearn.preprocessing import StandardScaler , LabelEncoder"
   ]
  },
  {
   "cell_type": "markdown",
   "id": "38493d53",
   "metadata": {
    "papermill": {
     "duration": 0.006914,
     "end_time": "2024-11-21T14:08:07.135964",
     "exception": false,
     "start_time": "2024-11-21T14:08:07.129050",
     "status": "completed"
    },
    "tags": []
   },
   "source": [
    "**2. Loading the data in the pandas dataframe**\n",
    "\n",
    "* train_data variable contains training data which is used in training the model\n",
    "* test_data variable contains testing data which is unseen data for prediction"
   ]
  },
  {
   "cell_type": "code",
   "execution_count": 2,
   "id": "478a3c18",
   "metadata": {
    "execution": {
     "iopub.execute_input": "2024-11-21T14:08:07.153347Z",
     "iopub.status.busy": "2024-11-21T14:08:07.152120Z",
     "iopub.status.idle": "2024-11-21T14:08:08.130136Z",
     "shell.execute_reply": "2024-11-21T14:08:08.128849Z"
    },
    "papermill": {
     "duration": 0.989187,
     "end_time": "2024-11-21T14:08:08.132822",
     "exception": false,
     "start_time": "2024-11-21T14:08:07.143635",
     "status": "completed"
    },
    "tags": []
   },
   "outputs": [],
   "source": [
    "train_data=pd.read_csv(\"/kaggle/input/customer-churn-dataset/customer_churn_dataset-training-master.csv\")\n",
    "test_data=pd.read_csv(\"/kaggle/input/customer-churn-dataset/customer_churn_dataset-testing-master.csv\")"
   ]
  },
  {
   "cell_type": "code",
   "execution_count": 3,
   "id": "133b0cdd",
   "metadata": {
    "execution": {
     "iopub.execute_input": "2024-11-21T14:08:08.150108Z",
     "iopub.status.busy": "2024-11-21T14:08:08.149681Z",
     "iopub.status.idle": "2024-11-21T14:08:08.181918Z",
     "shell.execute_reply": "2024-11-21T14:08:08.180566Z"
    },
    "papermill": {
     "duration": 0.043962,
     "end_time": "2024-11-21T14:08:08.184380",
     "exception": false,
     "start_time": "2024-11-21T14:08:08.140418",
     "status": "completed"
    },
    "tags": []
   },
   "outputs": [
    {
     "data": {
      "text/html": [
       "<div>\n",
       "<style scoped>\n",
       "    .dataframe tbody tr th:only-of-type {\n",
       "        vertical-align: middle;\n",
       "    }\n",
       "\n",
       "    .dataframe tbody tr th {\n",
       "        vertical-align: top;\n",
       "    }\n",
       "\n",
       "    .dataframe thead th {\n",
       "        text-align: right;\n",
       "    }\n",
       "</style>\n",
       "<table border=\"1\" class=\"dataframe\">\n",
       "  <thead>\n",
       "    <tr style=\"text-align: right;\">\n",
       "      <th></th>\n",
       "      <th>CustomerID</th>\n",
       "      <th>Age</th>\n",
       "      <th>Gender</th>\n",
       "      <th>Tenure</th>\n",
       "      <th>Usage Frequency</th>\n",
       "      <th>Support Calls</th>\n",
       "      <th>Payment Delay</th>\n",
       "      <th>Subscription Type</th>\n",
       "      <th>Contract Length</th>\n",
       "      <th>Total Spend</th>\n",
       "      <th>Last Interaction</th>\n",
       "      <th>Churn</th>\n",
       "    </tr>\n",
       "  </thead>\n",
       "  <tbody>\n",
       "    <tr>\n",
       "      <th>0</th>\n",
       "      <td>2.0</td>\n",
       "      <td>30.0</td>\n",
       "      <td>Female</td>\n",
       "      <td>39.0</td>\n",
       "      <td>14.0</td>\n",
       "      <td>5.0</td>\n",
       "      <td>18.0</td>\n",
       "      <td>Standard</td>\n",
       "      <td>Annual</td>\n",
       "      <td>932.0</td>\n",
       "      <td>17.0</td>\n",
       "      <td>1.0</td>\n",
       "    </tr>\n",
       "    <tr>\n",
       "      <th>1</th>\n",
       "      <td>3.0</td>\n",
       "      <td>65.0</td>\n",
       "      <td>Female</td>\n",
       "      <td>49.0</td>\n",
       "      <td>1.0</td>\n",
       "      <td>10.0</td>\n",
       "      <td>8.0</td>\n",
       "      <td>Basic</td>\n",
       "      <td>Monthly</td>\n",
       "      <td>557.0</td>\n",
       "      <td>6.0</td>\n",
       "      <td>1.0</td>\n",
       "    </tr>\n",
       "    <tr>\n",
       "      <th>2</th>\n",
       "      <td>4.0</td>\n",
       "      <td>55.0</td>\n",
       "      <td>Female</td>\n",
       "      <td>14.0</td>\n",
       "      <td>4.0</td>\n",
       "      <td>6.0</td>\n",
       "      <td>18.0</td>\n",
       "      <td>Basic</td>\n",
       "      <td>Quarterly</td>\n",
       "      <td>185.0</td>\n",
       "      <td>3.0</td>\n",
       "      <td>1.0</td>\n",
       "    </tr>\n",
       "    <tr>\n",
       "      <th>3</th>\n",
       "      <td>5.0</td>\n",
       "      <td>58.0</td>\n",
       "      <td>Male</td>\n",
       "      <td>38.0</td>\n",
       "      <td>21.0</td>\n",
       "      <td>7.0</td>\n",
       "      <td>7.0</td>\n",
       "      <td>Standard</td>\n",
       "      <td>Monthly</td>\n",
       "      <td>396.0</td>\n",
       "      <td>29.0</td>\n",
       "      <td>1.0</td>\n",
       "    </tr>\n",
       "    <tr>\n",
       "      <th>4</th>\n",
       "      <td>6.0</td>\n",
       "      <td>23.0</td>\n",
       "      <td>Male</td>\n",
       "      <td>32.0</td>\n",
       "      <td>20.0</td>\n",
       "      <td>5.0</td>\n",
       "      <td>8.0</td>\n",
       "      <td>Basic</td>\n",
       "      <td>Monthly</td>\n",
       "      <td>617.0</td>\n",
       "      <td>20.0</td>\n",
       "      <td>1.0</td>\n",
       "    </tr>\n",
       "  </tbody>\n",
       "</table>\n",
       "</div>"
      ],
      "text/plain": [
       "   CustomerID   Age  Gender  Tenure  Usage Frequency  Support Calls  \\\n",
       "0         2.0  30.0  Female    39.0             14.0            5.0   \n",
       "1         3.0  65.0  Female    49.0              1.0           10.0   \n",
       "2         4.0  55.0  Female    14.0              4.0            6.0   \n",
       "3         5.0  58.0    Male    38.0             21.0            7.0   \n",
       "4         6.0  23.0    Male    32.0             20.0            5.0   \n",
       "\n",
       "   Payment Delay Subscription Type Contract Length  Total Spend  \\\n",
       "0           18.0          Standard          Annual        932.0   \n",
       "1            8.0             Basic         Monthly        557.0   \n",
       "2           18.0             Basic       Quarterly        185.0   \n",
       "3            7.0          Standard         Monthly        396.0   \n",
       "4            8.0             Basic         Monthly        617.0   \n",
       "\n",
       "   Last Interaction  Churn  \n",
       "0              17.0    1.0  \n",
       "1               6.0    1.0  \n",
       "2               3.0    1.0  \n",
       "3              29.0    1.0  \n",
       "4              20.0    1.0  "
      ]
     },
     "execution_count": 3,
     "metadata": {},
     "output_type": "execute_result"
    }
   ],
   "source": [
    "train_data.head()"
   ]
  },
  {
   "cell_type": "markdown",
   "id": "823081ac",
   "metadata": {
    "papermill": {
     "duration": 0.007228,
     "end_time": "2024-11-21T14:08:08.199311",
     "exception": false,
     "start_time": "2024-11-21T14:08:08.192083",
     "status": "completed"
    },
    "tags": []
   },
   "source": [
    "**3. Exploring the data**\n",
    "\n",
    "\n"
   ]
  },
  {
   "cell_type": "markdown",
   "id": "89137e3a",
   "metadata": {
    "papermill": {
     "duration": 0.007067,
     "end_time": "2024-11-21T14:08:08.213941",
     "exception": false,
     "start_time": "2024-11-21T14:08:08.206874",
     "status": "completed"
    },
    "tags": []
   },
   "source": [
    "* info() is used to get the basic information about the data like columns, datatype and null value.\n"
   ]
  },
  {
   "cell_type": "code",
   "execution_count": 4,
   "id": "221b8db6",
   "metadata": {
    "execution": {
     "iopub.execute_input": "2024-11-21T14:08:08.231674Z",
     "iopub.status.busy": "2024-11-21T14:08:08.231243Z",
     "iopub.status.idle": "2024-11-21T14:08:08.330292Z",
     "shell.execute_reply": "2024-11-21T14:08:08.328984Z"
    },
    "papermill": {
     "duration": 0.111347,
     "end_time": "2024-11-21T14:08:08.332844",
     "exception": false,
     "start_time": "2024-11-21T14:08:08.221497",
     "status": "completed"
    },
    "tags": []
   },
   "outputs": [
    {
     "name": "stdout",
     "output_type": "stream",
     "text": [
      "<class 'pandas.core.frame.DataFrame'>\n",
      "RangeIndex: 440833 entries, 0 to 440832\n",
      "Data columns (total 12 columns):\n",
      " #   Column             Non-Null Count   Dtype  \n",
      "---  ------             --------------   -----  \n",
      " 0   CustomerID         440832 non-null  float64\n",
      " 1   Age                440832 non-null  float64\n",
      " 2   Gender             440832 non-null  object \n",
      " 3   Tenure             440832 non-null  float64\n",
      " 4   Usage Frequency    440832 non-null  float64\n",
      " 5   Support Calls      440832 non-null  float64\n",
      " 6   Payment Delay      440832 non-null  float64\n",
      " 7   Subscription Type  440832 non-null  object \n",
      " 8   Contract Length    440832 non-null  object \n",
      " 9   Total Spend        440832 non-null  float64\n",
      " 10  Last Interaction   440832 non-null  float64\n",
      " 11  Churn              440832 non-null  float64\n",
      "dtypes: float64(9), object(3)\n",
      "memory usage: 40.4+ MB\n",
      "None\n"
     ]
    }
   ],
   "source": [
    "print(train_data.info())"
   ]
  },
  {
   "cell_type": "markdown",
   "id": "1bfd8963",
   "metadata": {
    "papermill": {
     "duration": 0.007327,
     "end_time": "2024-11-21T14:08:08.347896",
     "exception": false,
     "start_time": "2024-11-21T14:08:08.340569",
     "status": "completed"
    },
    "tags": []
   },
   "source": [
    "* describe() is used to get the statistical information like mean , min , max etc.\n"
   ]
  },
  {
   "cell_type": "code",
   "execution_count": 5,
   "id": "43ba07df",
   "metadata": {
    "execution": {
     "iopub.execute_input": "2024-11-21T14:08:08.364898Z",
     "iopub.status.busy": "2024-11-21T14:08:08.364472Z",
     "iopub.status.idle": "2024-11-21T14:08:08.616955Z",
     "shell.execute_reply": "2024-11-21T14:08:08.615499Z"
    },
    "papermill": {
     "duration": 0.263995,
     "end_time": "2024-11-21T14:08:08.619461",
     "exception": false,
     "start_time": "2024-11-21T14:08:08.355466",
     "status": "completed"
    },
    "tags": []
   },
   "outputs": [
    {
     "name": "stdout",
     "output_type": "stream",
     "text": [
      "          CustomerID            Age         Tenure  Usage Frequency  \\\n",
      "count  440832.000000  440832.000000  440832.000000    440832.000000   \n",
      "mean   225398.667955      39.373153      31.256336        15.807494   \n",
      "std    129531.918550      12.442369      17.255727         8.586242   \n",
      "min         2.000000      18.000000       1.000000         1.000000   \n",
      "25%    113621.750000      29.000000      16.000000         9.000000   \n",
      "50%    226125.500000      39.000000      32.000000        16.000000   \n",
      "75%    337739.250000      48.000000      46.000000        23.000000   \n",
      "max    449999.000000      65.000000      60.000000        30.000000   \n",
      "\n",
      "       Support Calls  Payment Delay    Total Spend  Last Interaction  \\\n",
      "count  440832.000000  440832.000000  440832.000000     440832.000000   \n",
      "mean        3.604437      12.965722     631.616223         14.480868   \n",
      "std         3.070218       8.258063     240.803001          8.596208   \n",
      "min         0.000000       0.000000     100.000000          1.000000   \n",
      "25%         1.000000       6.000000     480.000000          7.000000   \n",
      "50%         3.000000      12.000000     661.000000         14.000000   \n",
      "75%         6.000000      19.000000     830.000000         22.000000   \n",
      "max        10.000000      30.000000    1000.000000         30.000000   \n",
      "\n",
      "               Churn  \n",
      "count  440832.000000  \n",
      "mean        0.567107  \n",
      "std         0.495477  \n",
      "min         0.000000  \n",
      "25%         0.000000  \n",
      "50%         1.000000  \n",
      "75%         1.000000  \n",
      "max         1.000000  \n"
     ]
    }
   ],
   "source": [
    "print(train_data.describe())"
   ]
  },
  {
   "cell_type": "markdown",
   "id": "32e2bffa",
   "metadata": {
    "papermill": {
     "duration": 0.007626,
     "end_time": "2024-11-21T14:08:08.635884",
     "exception": false,
     "start_time": "2024-11-21T14:08:08.628258",
     "status": "completed"
    },
    "tags": []
   },
   "source": [
    "**4. Data Preprocessing Function**\n"
   ]
  },
  {
   "cell_type": "markdown",
   "id": "72283a9b",
   "metadata": {
    "papermill": {
     "duration": 0.007208,
     "end_time": "2024-11-21T14:08:08.650806",
     "exception": false,
     "start_time": "2024-11-21T14:08:08.643598",
     "status": "completed"
    },
    "tags": []
   },
   "source": [
    "Defining a function name preprocess_data so that multi processing can be done in single function.\n",
    "\n",
    "* Handling the missing values and filling it with the median for only numerical columns.\n",
    "* Using LabelEncoder to change the gender(categorical value) to numberical value for example male=1 ,female=0.\n",
    "* Saving CustomerID separately and droping it from the main DataFrame as it is irrelevant."
   ]
  },
  {
   "cell_type": "code",
   "execution_count": 6,
   "id": "868dd3e8",
   "metadata": {
    "execution": {
     "iopub.execute_input": "2024-11-21T14:08:08.667751Z",
     "iopub.status.busy": "2024-11-21T14:08:08.667323Z",
     "iopub.status.idle": "2024-11-21T14:08:08.674022Z",
     "shell.execute_reply": "2024-11-21T14:08:08.672924Z"
    },
    "papermill": {
     "duration": 0.017687,
     "end_time": "2024-11-21T14:08:08.676048",
     "exception": false,
     "start_time": "2024-11-21T14:08:08.658361",
     "status": "completed"
    },
    "tags": []
   },
   "outputs": [],
   "source": [
    "def preprocess_data(data):\n",
    "    numberic_columns=data.select_dtypes(include=['number']).columns\n",
    "    data[numberic_columns]=data[numberic_columns].fillna(data[numberic_columns].median())\n",
    "    if 'Gender' in data.columns:\n",
    "        label_enc=LabelEncoder()\n",
    "        data['Gender']=label_enc.fit_transform(data['Gender'])\n",
    "    if 'CustomerID'in data.columns:\n",
    "        data['CustomerID'] = data['CustomerID']\n",
    "    data = pd.get_dummies(data, drop_first=True)  \n",
    "    return data\n",
    "        "
   ]
  },
  {
   "cell_type": "markdown",
   "id": "4b718810",
   "metadata": {
    "papermill": {
     "duration": 0.007296,
     "end_time": "2024-11-21T14:08:08.692136",
     "exception": false,
     "start_time": "2024-11-21T14:08:08.684840",
     "status": "completed"
    },
    "tags": []
   },
   "source": [
    "**5. Preprocessing the training and testing data**"
   ]
  },
  {
   "cell_type": "markdown",
   "id": "994d15e5",
   "metadata": {
    "papermill": {
     "duration": 0.007992,
     "end_time": "2024-11-21T14:08:08.707908",
     "exception": false,
     "start_time": "2024-11-21T14:08:08.699916",
     "status": "completed"
    },
    "tags": []
   },
   "source": [
    "* Cleans both trainig and testing data using the preprocessing function"
   ]
  },
  {
   "cell_type": "code",
   "execution_count": 7,
   "id": "8b2a3502",
   "metadata": {
    "execution": {
     "iopub.execute_input": "2024-11-21T14:08:08.724811Z",
     "iopub.status.busy": "2024-11-21T14:08:08.724369Z",
     "iopub.status.idle": "2024-11-21T14:08:09.180798Z",
     "shell.execute_reply": "2024-11-21T14:08:09.179298Z"
    },
    "papermill": {
     "duration": 0.467744,
     "end_time": "2024-11-21T14:08:09.183322",
     "exception": false,
     "start_time": "2024-11-21T14:08:08.715578",
     "status": "completed"
    },
    "tags": []
   },
   "outputs": [],
   "source": [
    "train_data=preprocess_data(train_data)\n",
    "X_test=preprocess_data(test_data)"
   ]
  },
  {
   "cell_type": "markdown",
   "id": "890bf8e0",
   "metadata": {
    "papermill": {
     "duration": 0.007501,
     "end_time": "2024-11-21T14:08:09.199254",
     "exception": false,
     "start_time": "2024-11-21T14:08:09.191753",
     "status": "completed"
    },
    "tags": []
   },
   "source": [
    "**6. Spliting Training Data into Features and Labels**"
   ]
  },
  {
   "cell_type": "markdown",
   "id": "541244d0",
   "metadata": {
    "papermill": {
     "duration": 0.007609,
     "end_time": "2024-11-21T14:08:09.214584",
     "exception": false,
     "start_time": "2024-11-21T14:08:09.206975",
     "status": "completed"
    },
    "tags": []
   },
   "source": [
    "* Features are the characteristics of the data that helps in training the model.\n",
    "* X: Predictors Variable.\n",
    "* Labels are also known as Target Variable that is the result classified based on Feature.(Returns 0 for no churn and 1 for churn)\n",
    "* Y: Target Variable."
   ]
  },
  {
   "cell_type": "code",
   "execution_count": 8,
   "id": "81e6672e",
   "metadata": {
    "execution": {
     "iopub.execute_input": "2024-11-21T14:08:09.232029Z",
     "iopub.status.busy": "2024-11-21T14:08:09.231633Z",
     "iopub.status.idle": "2024-11-21T14:08:09.246344Z",
     "shell.execute_reply": "2024-11-21T14:08:09.244949Z"
    },
    "papermill": {
     "duration": 0.027099,
     "end_time": "2024-11-21T14:08:09.249236",
     "exception": false,
     "start_time": "2024-11-21T14:08:09.222137",
     "status": "completed"
    },
    "tags": []
   },
   "outputs": [],
   "source": [
    "X=train_data.drop(\"Churn\",axis=1)\n",
    "y=train_data[\"Churn\"]"
   ]
  },
  {
   "cell_type": "markdown",
   "id": "638ef543",
   "metadata": {
    "papermill": {
     "duration": 0.007421,
     "end_time": "2024-11-21T14:08:09.264779",
     "exception": false,
     "start_time": "2024-11-21T14:08:09.257358",
     "status": "completed"
    },
    "tags": []
   },
   "source": [
    " * Ensure the test set has the same columns as training data"
   ]
  },
  {
   "cell_type": "code",
   "execution_count": 9,
   "id": "0fce92c7",
   "metadata": {
    "execution": {
     "iopub.execute_input": "2024-11-21T14:08:09.282138Z",
     "iopub.status.busy": "2024-11-21T14:08:09.281680Z",
     "iopub.status.idle": "2024-11-21T14:08:09.288676Z",
     "shell.execute_reply": "2024-11-21T14:08:09.287543Z"
    },
    "papermill": {
     "duration": 0.018619,
     "end_time": "2024-11-21T14:08:09.291085",
     "exception": false,
     "start_time": "2024-11-21T14:08:09.272466",
     "status": "completed"
    },
    "tags": []
   },
   "outputs": [],
   "source": [
    "X_test = X_test.reindex(columns=X.columns, fill_value=0)"
   ]
  },
  {
   "cell_type": "markdown",
   "id": "d9f5bc83",
   "metadata": {
    "papermill": {
     "duration": 0.007464,
     "end_time": "2024-11-21T14:08:09.306520",
     "exception": false,
     "start_time": "2024-11-21T14:08:09.299056",
     "status": "completed"
    },
    "tags": []
   },
   "source": [
    "**7. Feature Scaling**"
   ]
  },
  {
   "cell_type": "markdown",
   "id": "edb4d255",
   "metadata": {
    "papermill": {
     "duration": 0.007284,
     "end_time": "2024-11-21T14:08:09.321318",
     "exception": false,
     "start_time": "2024-11-21T14:08:09.314034",
     "status": "completed"
    },
    "tags": []
   },
   "source": [
    "* Standardizing the data for better performance by normalizing the feature to have mean=0 and standard deviation=1."
   ]
  },
  {
   "cell_type": "code",
   "execution_count": 10,
   "id": "3fa1d4c3",
   "metadata": {
    "execution": {
     "iopub.execute_input": "2024-11-21T14:08:09.338503Z",
     "iopub.status.busy": "2024-11-21T14:08:09.338016Z",
     "iopub.status.idle": "2024-11-21T14:08:09.843178Z",
     "shell.execute_reply": "2024-11-21T14:08:09.841430Z"
    },
    "papermill": {
     "duration": 0.517014,
     "end_time": "2024-11-21T14:08:09.846062",
     "exception": false,
     "start_time": "2024-11-21T14:08:09.329048",
     "status": "completed"
    },
    "tags": []
   },
   "outputs": [],
   "source": [
    "scaler=StandardScaler()\n",
    "X_scaled=scaler.fit_transform(X)\n",
    "X_test_scaled=scaler.fit_transform(X_test)\n"
   ]
  },
  {
   "cell_type": "markdown",
   "id": "15e45a00",
   "metadata": {
    "papermill": {
     "duration": 0.01788,
     "end_time": "2024-11-21T14:08:09.875882",
     "exception": false,
     "start_time": "2024-11-21T14:08:09.858002",
     "status": "completed"
    },
    "tags": []
   },
   "source": [
    "**8. Spliting the Data for Validation**"
   ]
  },
  {
   "cell_type": "markdown",
   "id": "c5a48b47",
   "metadata": {
    "papermill": {
     "duration": 0.00761,
     "end_time": "2024-11-21T14:08:09.894651",
     "exception": false,
     "start_time": "2024-11-21T14:08:09.887041",
     "status": "completed"
    },
    "tags": []
   },
   "source": [
    "* Spliting the data into training(80%) and validation(20%) sets for model evaluation.\n"
   ]
  },
  {
   "cell_type": "code",
   "execution_count": 11,
   "id": "3758a453",
   "metadata": {
    "execution": {
     "iopub.execute_input": "2024-11-21T14:08:09.913103Z",
     "iopub.status.busy": "2024-11-21T14:08:09.912695Z",
     "iopub.status.idle": "2024-11-21T14:08:10.046796Z",
     "shell.execute_reply": "2024-11-21T14:08:10.045390Z"
    },
    "papermill": {
     "duration": 0.146872,
     "end_time": "2024-11-21T14:08:10.049833",
     "exception": false,
     "start_time": "2024-11-21T14:08:09.902961",
     "status": "completed"
    },
    "tags": []
   },
   "outputs": [],
   "source": [
    "X_train,X_val,y_train,y_val=train_test_split(X_scaled,y ,test_size=0.2 ,random_state=42)"
   ]
  },
  {
   "cell_type": "markdown",
   "id": "372785f6",
   "metadata": {
    "papermill": {
     "duration": 0.011171,
     "end_time": "2024-11-21T14:08:10.068826",
     "exception": false,
     "start_time": "2024-11-21T14:08:10.057655",
     "status": "completed"
    },
    "tags": []
   },
   "source": [
    "**9. Model Training**"
   ]
  },
  {
   "cell_type": "markdown",
   "id": "673d765e",
   "metadata": {
    "papermill": {
     "duration": 0.007511,
     "end_time": "2024-11-21T14:08:10.084590",
     "exception": false,
     "start_time": "2024-11-21T14:08:10.077079",
     "status": "completed"
    },
    "tags": []
   },
   "source": [
    "* **Random Forest:** Trainig random forest model with 100 decision trees."
   ]
  },
  {
   "cell_type": "code",
   "execution_count": 12,
   "id": "5055e41f",
   "metadata": {
    "execution": {
     "iopub.execute_input": "2024-11-21T14:08:10.104866Z",
     "iopub.status.busy": "2024-11-21T14:08:10.104455Z",
     "iopub.status.idle": "2024-11-21T14:08:39.122604Z",
     "shell.execute_reply": "2024-11-21T14:08:39.121435Z"
    },
    "papermill": {
     "duration": 29.030001,
     "end_time": "2024-11-21T14:08:39.124769",
     "exception": false,
     "start_time": "2024-11-21T14:08:10.094768",
     "status": "completed"
    },
    "tags": []
   },
   "outputs": [
    {
     "data": {
      "text/html": [
       "<style>#sk-container-id-1 {color: black;background-color: white;}#sk-container-id-1 pre{padding: 0;}#sk-container-id-1 div.sk-toggleable {background-color: white;}#sk-container-id-1 label.sk-toggleable__label {cursor: pointer;display: block;width: 100%;margin-bottom: 0;padding: 0.3em;box-sizing: border-box;text-align: center;}#sk-container-id-1 label.sk-toggleable__label-arrow:before {content: \"▸\";float: left;margin-right: 0.25em;color: #696969;}#sk-container-id-1 label.sk-toggleable__label-arrow:hover:before {color: black;}#sk-container-id-1 div.sk-estimator:hover label.sk-toggleable__label-arrow:before {color: black;}#sk-container-id-1 div.sk-toggleable__content {max-height: 0;max-width: 0;overflow: hidden;text-align: left;background-color: #f0f8ff;}#sk-container-id-1 div.sk-toggleable__content pre {margin: 0.2em;color: black;border-radius: 0.25em;background-color: #f0f8ff;}#sk-container-id-1 input.sk-toggleable__control:checked~div.sk-toggleable__content {max-height: 200px;max-width: 100%;overflow: auto;}#sk-container-id-1 input.sk-toggleable__control:checked~label.sk-toggleable__label-arrow:before {content: \"▾\";}#sk-container-id-1 div.sk-estimator input.sk-toggleable__control:checked~label.sk-toggleable__label {background-color: #d4ebff;}#sk-container-id-1 div.sk-label input.sk-toggleable__control:checked~label.sk-toggleable__label {background-color: #d4ebff;}#sk-container-id-1 input.sk-hidden--visually {border: 0;clip: rect(1px 1px 1px 1px);clip: rect(1px, 1px, 1px, 1px);height: 1px;margin: -1px;overflow: hidden;padding: 0;position: absolute;width: 1px;}#sk-container-id-1 div.sk-estimator {font-family: monospace;background-color: #f0f8ff;border: 1px dotted black;border-radius: 0.25em;box-sizing: border-box;margin-bottom: 0.5em;}#sk-container-id-1 div.sk-estimator:hover {background-color: #d4ebff;}#sk-container-id-1 div.sk-parallel-item::after {content: \"\";width: 100%;border-bottom: 1px solid gray;flex-grow: 1;}#sk-container-id-1 div.sk-label:hover label.sk-toggleable__label {background-color: #d4ebff;}#sk-container-id-1 div.sk-serial::before {content: \"\";position: absolute;border-left: 1px solid gray;box-sizing: border-box;top: 0;bottom: 0;left: 50%;z-index: 0;}#sk-container-id-1 div.sk-serial {display: flex;flex-direction: column;align-items: center;background-color: white;padding-right: 0.2em;padding-left: 0.2em;position: relative;}#sk-container-id-1 div.sk-item {position: relative;z-index: 1;}#sk-container-id-1 div.sk-parallel {display: flex;align-items: stretch;justify-content: center;background-color: white;position: relative;}#sk-container-id-1 div.sk-item::before, #sk-container-id-1 div.sk-parallel-item::before {content: \"\";position: absolute;border-left: 1px solid gray;box-sizing: border-box;top: 0;bottom: 0;left: 50%;z-index: -1;}#sk-container-id-1 div.sk-parallel-item {display: flex;flex-direction: column;z-index: 1;position: relative;background-color: white;}#sk-container-id-1 div.sk-parallel-item:first-child::after {align-self: flex-end;width: 50%;}#sk-container-id-1 div.sk-parallel-item:last-child::after {align-self: flex-start;width: 50%;}#sk-container-id-1 div.sk-parallel-item:only-child::after {width: 0;}#sk-container-id-1 div.sk-dashed-wrapped {border: 1px dashed gray;margin: 0 0.4em 0.5em 0.4em;box-sizing: border-box;padding-bottom: 0.4em;background-color: white;}#sk-container-id-1 div.sk-label label {font-family: monospace;font-weight: bold;display: inline-block;line-height: 1.2em;}#sk-container-id-1 div.sk-label-container {text-align: center;}#sk-container-id-1 div.sk-container {/* jupyter's `normalize.less` sets `[hidden] { display: none; }` but bootstrap.min.css set `[hidden] { display: none !important; }` so we also need the `!important` here to be able to override the default hidden behavior on the sphinx rendered scikit-learn.org. See: https://github.com/scikit-learn/scikit-learn/issues/21755 */display: inline-block !important;position: relative;}#sk-container-id-1 div.sk-text-repr-fallback {display: none;}</style><div id=\"sk-container-id-1\" class=\"sk-top-container\"><div class=\"sk-text-repr-fallback\"><pre>RandomForestClassifier(random_state=42)</pre><b>In a Jupyter environment, please rerun this cell to show the HTML representation or trust the notebook. <br />On GitHub, the HTML representation is unable to render, please try loading this page with nbviewer.org.</b></div><div class=\"sk-container\" hidden><div class=\"sk-item\"><div class=\"sk-estimator sk-toggleable\"><input class=\"sk-toggleable__control sk-hidden--visually\" id=\"sk-estimator-id-1\" type=\"checkbox\" checked><label for=\"sk-estimator-id-1\" class=\"sk-toggleable__label sk-toggleable__label-arrow\">RandomForestClassifier</label><div class=\"sk-toggleable__content\"><pre>RandomForestClassifier(random_state=42)</pre></div></div></div></div></div>"
      ],
      "text/plain": [
       "RandomForestClassifier(random_state=42)"
      ]
     },
     "execution_count": 12,
     "metadata": {},
     "output_type": "execute_result"
    }
   ],
   "source": [
    "rf_model=RandomForestClassifier(n_estimators=100 , random_state=42)\n",
    "rf_model.fit(X_train,y_train)"
   ]
  },
  {
   "cell_type": "markdown",
   "id": "380f07fb",
   "metadata": {
    "papermill": {
     "duration": 0.007578,
     "end_time": "2024-11-21T14:08:39.140403",
     "exception": false,
     "start_time": "2024-11-21T14:08:39.132825",
     "status": "completed"
    },
    "tags": []
   },
   "source": [
    "* **Gradient Boosting :** Training Gradient Boosting model with 100 estimators and 0.1 learning rate."
   ]
  },
  {
   "cell_type": "code",
   "execution_count": 13,
   "id": "cc3d4f71",
   "metadata": {
    "execution": {
     "iopub.execute_input": "2024-11-21T14:08:39.157928Z",
     "iopub.status.busy": "2024-11-21T14:08:39.157526Z",
     "iopub.status.idle": "2024-11-21T14:10:09.963142Z",
     "shell.execute_reply": "2024-11-21T14:10:09.961914Z"
    },
    "papermill": {
     "duration": 90.824938,
     "end_time": "2024-11-21T14:10:09.973310",
     "exception": false,
     "start_time": "2024-11-21T14:08:39.148372",
     "status": "completed"
    },
    "tags": []
   },
   "outputs": [
    {
     "data": {
      "text/html": [
       "<style>#sk-container-id-2 {color: black;background-color: white;}#sk-container-id-2 pre{padding: 0;}#sk-container-id-2 div.sk-toggleable {background-color: white;}#sk-container-id-2 label.sk-toggleable__label {cursor: pointer;display: block;width: 100%;margin-bottom: 0;padding: 0.3em;box-sizing: border-box;text-align: center;}#sk-container-id-2 label.sk-toggleable__label-arrow:before {content: \"▸\";float: left;margin-right: 0.25em;color: #696969;}#sk-container-id-2 label.sk-toggleable__label-arrow:hover:before {color: black;}#sk-container-id-2 div.sk-estimator:hover label.sk-toggleable__label-arrow:before {color: black;}#sk-container-id-2 div.sk-toggleable__content {max-height: 0;max-width: 0;overflow: hidden;text-align: left;background-color: #f0f8ff;}#sk-container-id-2 div.sk-toggleable__content pre {margin: 0.2em;color: black;border-radius: 0.25em;background-color: #f0f8ff;}#sk-container-id-2 input.sk-toggleable__control:checked~div.sk-toggleable__content {max-height: 200px;max-width: 100%;overflow: auto;}#sk-container-id-2 input.sk-toggleable__control:checked~label.sk-toggleable__label-arrow:before {content: \"▾\";}#sk-container-id-2 div.sk-estimator input.sk-toggleable__control:checked~label.sk-toggleable__label {background-color: #d4ebff;}#sk-container-id-2 div.sk-label input.sk-toggleable__control:checked~label.sk-toggleable__label {background-color: #d4ebff;}#sk-container-id-2 input.sk-hidden--visually {border: 0;clip: rect(1px 1px 1px 1px);clip: rect(1px, 1px, 1px, 1px);height: 1px;margin: -1px;overflow: hidden;padding: 0;position: absolute;width: 1px;}#sk-container-id-2 div.sk-estimator {font-family: monospace;background-color: #f0f8ff;border: 1px dotted black;border-radius: 0.25em;box-sizing: border-box;margin-bottom: 0.5em;}#sk-container-id-2 div.sk-estimator:hover {background-color: #d4ebff;}#sk-container-id-2 div.sk-parallel-item::after {content: \"\";width: 100%;border-bottom: 1px solid gray;flex-grow: 1;}#sk-container-id-2 div.sk-label:hover label.sk-toggleable__label {background-color: #d4ebff;}#sk-container-id-2 div.sk-serial::before {content: \"\";position: absolute;border-left: 1px solid gray;box-sizing: border-box;top: 0;bottom: 0;left: 50%;z-index: 0;}#sk-container-id-2 div.sk-serial {display: flex;flex-direction: column;align-items: center;background-color: white;padding-right: 0.2em;padding-left: 0.2em;position: relative;}#sk-container-id-2 div.sk-item {position: relative;z-index: 1;}#sk-container-id-2 div.sk-parallel {display: flex;align-items: stretch;justify-content: center;background-color: white;position: relative;}#sk-container-id-2 div.sk-item::before, #sk-container-id-2 div.sk-parallel-item::before {content: \"\";position: absolute;border-left: 1px solid gray;box-sizing: border-box;top: 0;bottom: 0;left: 50%;z-index: -1;}#sk-container-id-2 div.sk-parallel-item {display: flex;flex-direction: column;z-index: 1;position: relative;background-color: white;}#sk-container-id-2 div.sk-parallel-item:first-child::after {align-self: flex-end;width: 50%;}#sk-container-id-2 div.sk-parallel-item:last-child::after {align-self: flex-start;width: 50%;}#sk-container-id-2 div.sk-parallel-item:only-child::after {width: 0;}#sk-container-id-2 div.sk-dashed-wrapped {border: 1px dashed gray;margin: 0 0.4em 0.5em 0.4em;box-sizing: border-box;padding-bottom: 0.4em;background-color: white;}#sk-container-id-2 div.sk-label label {font-family: monospace;font-weight: bold;display: inline-block;line-height: 1.2em;}#sk-container-id-2 div.sk-label-container {text-align: center;}#sk-container-id-2 div.sk-container {/* jupyter's `normalize.less` sets `[hidden] { display: none; }` but bootstrap.min.css set `[hidden] { display: none !important; }` so we also need the `!important` here to be able to override the default hidden behavior on the sphinx rendered scikit-learn.org. See: https://github.com/scikit-learn/scikit-learn/issues/21755 */display: inline-block !important;position: relative;}#sk-container-id-2 div.sk-text-repr-fallback {display: none;}</style><div id=\"sk-container-id-2\" class=\"sk-top-container\"><div class=\"sk-text-repr-fallback\"><pre>GradientBoostingClassifier()</pre><b>In a Jupyter environment, please rerun this cell to show the HTML representation or trust the notebook. <br />On GitHub, the HTML representation is unable to render, please try loading this page with nbviewer.org.</b></div><div class=\"sk-container\" hidden><div class=\"sk-item\"><div class=\"sk-estimator sk-toggleable\"><input class=\"sk-toggleable__control sk-hidden--visually\" id=\"sk-estimator-id-2\" type=\"checkbox\" checked><label for=\"sk-estimator-id-2\" class=\"sk-toggleable__label sk-toggleable__label-arrow\">GradientBoostingClassifier</label><div class=\"sk-toggleable__content\"><pre>GradientBoostingClassifier()</pre></div></div></div></div></div>"
      ],
      "text/plain": [
       "GradientBoostingClassifier()"
      ]
     },
     "execution_count": 13,
     "metadata": {},
     "output_type": "execute_result"
    }
   ],
   "source": [
    "gb_model=GradientBoostingClassifier(n_estimators=100 ,learning_rate=0.1)\n",
    "gb_model.fit(X_train,y_train)"
   ]
  },
  {
   "cell_type": "markdown",
   "id": "b19d1f28",
   "metadata": {
    "papermill": {
     "duration": 0.007719,
     "end_time": "2024-11-21T14:10:09.988848",
     "exception": false,
     "start_time": "2024-11-21T14:10:09.981129",
     "status": "completed"
    },
    "tags": []
   },
   "source": [
    "**10. Evaluating the model**"
   ]
  },
  {
   "cell_type": "markdown",
   "id": "385d6dc2",
   "metadata": {
    "papermill": {
     "duration": 0.007697,
     "end_time": "2024-11-21T14:10:10.004598",
     "exception": false,
     "start_time": "2024-11-21T14:10:09.996901",
     "status": "completed"
    },
    "tags": []
   },
   "source": [
    "* Makes the prediction on validating sets and computing the accuracy score,confusion matrix and classification report for both the models."
   ]
  },
  {
   "cell_type": "code",
   "execution_count": 14,
   "id": "abfa534a",
   "metadata": {
    "execution": {
     "iopub.execute_input": "2024-11-21T14:10:10.022343Z",
     "iopub.status.busy": "2024-11-21T14:10:10.021910Z",
     "iopub.status.idle": "2024-11-21T14:10:11.473528Z",
     "shell.execute_reply": "2024-11-21T14:10:11.472096Z"
    },
    "papermill": {
     "duration": 1.463286,
     "end_time": "2024-11-21T14:10:11.475746",
     "exception": false,
     "start_time": "2024-11-21T14:10:10.012460",
     "status": "completed"
    },
    "tags": []
   },
   "outputs": [
    {
     "name": "stdout",
     "output_type": "stream",
     "text": [
      "Random Forest Accuracy Score:  0.9995122891784908\n",
      "Gradient Boosting Accuracy Score:  0.9988090782265473\n",
      "Random Forest Confusion Matrix: \n",
      " [[38113    30]\n",
      " [   13 50011]]\n",
      "Gradient Boosting Confusion Matrix: \n",
      " [[38070    73]\n",
      " [   32 49992]]\n",
      "Random Forest Classification Report: \n",
      "               precision    recall  f1-score   support\n",
      "\n",
      "         0.0       1.00      1.00      1.00     38143\n",
      "         1.0       1.00      1.00      1.00     50024\n",
      "\n",
      "    accuracy                           1.00     88167\n",
      "   macro avg       1.00      1.00      1.00     88167\n",
      "weighted avg       1.00      1.00      1.00     88167\n",
      "\n",
      "Gradient Boosting Classification Report: \n",
      "               precision    recall  f1-score   support\n",
      "\n",
      "         0.0       1.00      1.00      1.00     38143\n",
      "         1.0       1.00      1.00      1.00     50024\n",
      "\n",
      "    accuracy                           1.00     88167\n",
      "   macro avg       1.00      1.00      1.00     88167\n",
      "weighted avg       1.00      1.00      1.00     88167\n",
      "\n"
     ]
    }
   ],
   "source": [
    "rf_preds=rf_model.predict(X_val)\n",
    "gb_preds=gb_model.predict(X_val)\n",
    "# Accuracy scores\n",
    "print(\"Random Forest Accuracy Score: \", accuracy_score(y_val, rf_preds))\n",
    "print(\"Gradient Boosting Accuracy Score: \", accuracy_score(y_val, gb_preds))\n",
    "\n",
    "# Confusion matrices\n",
    "print(\"Random Forest Confusion Matrix: \\n\", confusion_matrix(y_val, rf_preds))\n",
    "print(\"Gradient Boosting Confusion Matrix: \\n\", confusion_matrix(y_val, gb_preds))\n",
    "\n",
    "# Classification Reports\n",
    "print(\"Random Forest Classification Report: \\n\", classification_report(y_val, rf_preds))\n",
    "print(\"Gradient Boosting Classification Report: \\n\", classification_report(y_val, gb_preds))"
   ]
  },
  {
   "cell_type": "markdown",
   "id": "5a73c22b",
   "metadata": {
    "papermill": {
     "duration": 0.007891,
     "end_time": "2024-11-21T14:10:11.491958",
     "exception": false,
     "start_time": "2024-11-21T14:10:11.484067",
     "status": "completed"
    },
    "tags": []
   },
   "source": [
    "**11. Selecting the best model**"
   ]
  },
  {
   "cell_type": "markdown",
   "id": "8a15653e",
   "metadata": {
    "papermill": {
     "duration": 0.007864,
     "end_time": "2024-11-21T14:10:11.507902",
     "exception": false,
     "start_time": "2024-11-21T14:10:11.500038",
     "status": "completed"
    },
    "tags": []
   },
   "source": [
    "* Both models score are good but choosing Gradient Boosting model as it has more score than Random Forest .\n",
    "* Using Gradient Boosting as a final Model for final Predictions."
   ]
  },
  {
   "cell_type": "code",
   "execution_count": 15,
   "id": "dcf76cec",
   "metadata": {
    "execution": {
     "iopub.execute_input": "2024-11-21T14:10:11.526015Z",
     "iopub.status.busy": "2024-11-21T14:10:11.525648Z",
     "iopub.status.idle": "2024-11-21T14:10:11.530652Z",
     "shell.execute_reply": "2024-11-21T14:10:11.529465Z"
    },
    "papermill": {
     "duration": 0.016681,
     "end_time": "2024-11-21T14:10:11.532742",
     "exception": false,
     "start_time": "2024-11-21T14:10:11.516061",
     "status": "completed"
    },
    "tags": []
   },
   "outputs": [],
   "source": [
    "final_model=gb_model"
   ]
  },
  {
   "cell_type": "markdown",
   "id": "8d10a093",
   "metadata": {
    "papermill": {
     "duration": 0.007928,
     "end_time": "2024-11-21T14:10:11.548803",
     "exception": false,
     "start_time": "2024-11-21T14:10:11.540875",
     "status": "completed"
    },
    "tags": []
   },
   "source": [
    "**12. Prediction on Test Data**"
   ]
  },
  {
   "cell_type": "markdown",
   "id": "e217fa7e",
   "metadata": {
    "papermill": {
     "duration": 0.008634,
     "end_time": "2024-11-21T14:10:11.565691",
     "exception": false,
     "start_time": "2024-11-21T14:10:11.557057",
     "status": "completed"
    },
    "tags": []
   },
   "source": [
    "* Predicts churn for test data."
   ]
  },
  {
   "cell_type": "code",
   "execution_count": 16,
   "id": "e90fe2ee",
   "metadata": {
    "execution": {
     "iopub.execute_input": "2024-11-21T14:10:11.586110Z",
     "iopub.status.busy": "2024-11-21T14:10:11.584279Z",
     "iopub.status.idle": "2024-11-21T14:10:11.710726Z",
     "shell.execute_reply": "2024-11-21T14:10:11.709730Z"
    },
    "papermill": {
     "duration": 0.139538,
     "end_time": "2024-11-21T14:10:11.713448",
     "exception": false,
     "start_time": "2024-11-21T14:10:11.573910",
     "status": "completed"
    },
    "tags": []
   },
   "outputs": [],
   "source": [
    "test_preds=final_model.predict(X_test_scaled)"
   ]
  },
  {
   "cell_type": "markdown",
   "id": "6a8b294c",
   "metadata": {
    "papermill": {
     "duration": 0.00805,
     "end_time": "2024-11-21T14:10:11.730334",
     "exception": false,
     "start_time": "2024-11-21T14:10:11.722284",
     "status": "completed"
    },
    "tags": []
   },
   "source": [
    "**Saving the Final Output in Csv**"
   ]
  },
  {
   "cell_type": "code",
   "execution_count": 17,
   "id": "94ac47f0",
   "metadata": {
    "execution": {
     "iopub.execute_input": "2024-11-21T14:10:11.748846Z",
     "iopub.status.busy": "2024-11-21T14:10:11.748450Z",
     "iopub.status.idle": "2024-11-21T14:10:11.825905Z",
     "shell.execute_reply": "2024-11-21T14:10:11.824651Z"
    },
    "papermill": {
     "duration": 0.089427,
     "end_time": "2024-11-21T14:10:11.828343",
     "exception": false,
     "start_time": "2024-11-21T14:10:11.738916",
     "status": "completed"
    },
    "tags": []
   },
   "outputs": [
    {
     "name": "stdout",
     "output_type": "stream",
     "text": [
      "Predictions saved to churn_predictions.csv\n"
     ]
    }
   ],
   "source": [
    "output=pd.DataFrame({'CustomerID':test_data['CustomerID'],'churn_prediction':test_preds})\n",
    "output.to_csv('churn_predictions.csv',index=False)\n",
    "print(\"Predictions saved to churn_predictions.csv\")\n"
   ]
  },
  {
   "cell_type": "markdown",
   "id": "2880aebe",
   "metadata": {
    "papermill": {
     "duration": 0.008621,
     "end_time": "2024-11-21T14:10:11.845413",
     "exception": false,
     "start_time": "2024-11-21T14:10:11.836792",
     "status": "completed"
    },
    "tags": []
   },
   "source": [
    "**Exporting Cleaned dataset for creating Dashbaord in Tableau**"
   ]
  },
  {
   "cell_type": "code",
   "execution_count": 18,
   "id": "0d4f5594",
   "metadata": {
    "execution": {
     "iopub.execute_input": "2024-11-21T14:10:11.863391Z",
     "iopub.status.busy": "2024-11-21T14:10:11.863008Z",
     "iopub.status.idle": "2024-11-21T14:10:12.115371Z",
     "shell.execute_reply": "2024-11-21T14:10:12.113968Z"
    },
    "papermill": {
     "duration": 0.264337,
     "end_time": "2024-11-21T14:10:12.117941",
     "exception": false,
     "start_time": "2024-11-21T14:10:11.853604",
     "status": "completed"
    },
    "tags": []
   },
   "outputs": [
    {
     "name": "stdout",
     "output_type": "stream",
     "text": [
      "Data exported for Tableau visualization.\n"
     ]
    }
   ],
   "source": [
    "test_data['Churn_Prediction'] = test_preds\n",
    "test_data.to_csv('churn_dashboard_data.csv', index=False)\n",
    "print(\"Data exported for Tableau visualization.\")\n"
   ]
  }
 ],
 "metadata": {
  "kaggle": {
   "accelerator": "none",
   "dataSources": [
    {
     "datasetId": 3404076,
     "sourceId": 5929113,
     "sourceType": "datasetVersion"
    }
   ],
   "dockerImageVersionId": 30786,
   "isGpuEnabled": false,
   "isInternetEnabled": true,
   "language": "python",
   "sourceType": "notebook"
  },
  "kernelspec": {
   "display_name": "Python 3",
   "language": "python",
   "name": "python3"
  },
  "language_info": {
   "codemirror_mode": {
    "name": "ipython",
    "version": 3
   },
   "file_extension": ".py",
   "mimetype": "text/x-python",
   "name": "python",
   "nbconvert_exporter": "python",
   "pygments_lexer": "ipython3",
   "version": "3.10.14"
  },
  "papermill": {
   "default_parameters": {},
   "duration": 131.59196,
   "end_time": "2024-11-21T14:10:12.747390",
   "environment_variables": {},
   "exception": null,
   "input_path": "__notebook__.ipynb",
   "output_path": "__notebook__.ipynb",
   "parameters": {},
   "start_time": "2024-11-21T14:08:01.155430",
   "version": "2.6.0"
  }
 },
 "nbformat": 4,
 "nbformat_minor": 5
}
