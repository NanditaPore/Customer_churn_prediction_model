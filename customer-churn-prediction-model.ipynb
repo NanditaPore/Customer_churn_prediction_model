{
 "cells": [
  {
   "cell_type": "markdown",
   "id": "d6a99020",
   "metadata": {
    "papermill": {
     "duration": 0.008273,
     "end_time": "2024-11-21T13:50:07.207158",
     "exception": false,
     "start_time": "2024-11-21T13:50:07.198885",
     "status": "completed"
    },
    "tags": []
   },
   "source": [
    "**Customer Churn Prediction Model**"
   ]
  },
  {
   "cell_type": "markdown",
   "id": "a9f348e3",
   "metadata": {
    "papermill": {
     "duration": 0.006426,
     "end_time": "2024-11-21T13:50:07.220844",
     "exception": false,
     "start_time": "2024-11-21T13:50:07.214418",
     "status": "completed"
    },
    "tags": []
   },
   "source": [
    "**1. Importing Dependencies**\n",
    "\n",
    "* Pandas:Python Library provides Data Structure like DataFrame.\n",
    "* Numpy:It is used in numerical computation of dataset.\n",
    "\n",
    "*Scikit Learn also known as sklearn*\n",
    "\n",
    "*Sklearn Modules*\n",
    "\n",
    "* train_test_split: Used for spliting data into trainig and validating sets.\n",
    "* RandomForestClassifier :Classification model that combines the prediction of decision trees in series.\n",
    "* GradientBoostingClassifier: Classification model that combines the prediction of decision trees in sequence.\n",
    "* accuracy_score:Measures the proportion of correct predictions.\n",
    "* classifictaion_report:Generates report displaying Presicion, recall, F1score and support that helps in evaluating the classification model.\n",
    "* confusion_matrix:Evaluate the performale by camparing actual and predictions values.\n",
    "* StandardScaler: Preprocesses data by standardizing data to mean and scaling to unit varaince.\n",
    "* LabelEncoder: Converts the categorical varaible into numberical value."
   ]
  },
  {
   "cell_type": "code",
   "execution_count": 1,
   "id": "056b7d9e",
   "metadata": {
    "execution": {
     "iopub.execute_input": "2024-11-21T13:50:07.236714Z",
     "iopub.status.busy": "2024-11-21T13:50:07.236240Z",
     "iopub.status.idle": "2024-11-21T13:50:10.219885Z",
     "shell.execute_reply": "2024-11-21T13:50:10.218485Z"
    },
    "papermill": {
     "duration": 2.994863,
     "end_time": "2024-11-21T13:50:10.222622",
     "exception": false,
     "start_time": "2024-11-21T13:50:07.227759",
     "status": "completed"
    },
    "tags": []
   },
   "outputs": [],
   "source": [
    "import pandas as pd\n",
    "import numpy as np\n",
    "from sklearn.model_selection import train_test_split\n",
    "from sklearn.ensemble import RandomForestClassifier , GradientBoostingClassifier\n",
    "from sklearn.metrics import accuracy_score,classification_report ,confusion_matrix\n",
    "from sklearn.preprocessing import StandardScaler , LabelEncoder"
   ]
  },
  {
   "cell_type": "markdown",
   "id": "df5e263e",
   "metadata": {
    "papermill": {
     "duration": 0.00657,
     "end_time": "2024-11-21T13:50:10.237306",
     "exception": false,
     "start_time": "2024-11-21T13:50:10.230736",
     "status": "completed"
    },
    "tags": []
   },
   "source": [
    "**2. Loading the data in the pandas dataframe**\n",
    "\n",
    "* train_data variable contains training data which is used in training the model\n",
    "* test_data variable contains testing data which is unseen data for prediction"
   ]
  },
  {
   "cell_type": "code",
   "execution_count": 2,
   "id": "174c8735",
   "metadata": {
    "execution": {
     "iopub.execute_input": "2024-11-21T13:50:10.253702Z",
     "iopub.status.busy": "2024-11-21T13:50:10.253053Z",
     "iopub.status.idle": "2024-11-21T13:50:11.332326Z",
     "shell.execute_reply": "2024-11-21T13:50:11.331070Z"
    },
    "papermill": {
     "duration": 1.090775,
     "end_time": "2024-11-21T13:50:11.335015",
     "exception": false,
     "start_time": "2024-11-21T13:50:10.244240",
     "status": "completed"
    },
    "tags": []
   },
   "outputs": [],
   "source": [
    "train_data=pd.read_csv(\"/kaggle/input/customer-churn-dataset/customer_churn_dataset-training-master.csv\")\n",
    "test_data=pd.read_csv(\"/kaggle/input/customer-churn-dataset/customer_churn_dataset-testing-master.csv\")"
   ]
  },
  {
   "cell_type": "code",
   "execution_count": 3,
   "id": "799e0426",
   "metadata": {
    "execution": {
     "iopub.execute_input": "2024-11-21T13:50:11.351311Z",
     "iopub.status.busy": "2024-11-21T13:50:11.350787Z",
     "iopub.status.idle": "2024-11-21T13:50:11.384807Z",
     "shell.execute_reply": "2024-11-21T13:50:11.383317Z"
    },
    "papermill": {
     "duration": 0.045144,
     "end_time": "2024-11-21T13:50:11.387343",
     "exception": false,
     "start_time": "2024-11-21T13:50:11.342199",
     "status": "completed"
    },
    "tags": []
   },
   "outputs": [
    {
     "data": {
      "text/html": [
       "<div>\n",
       "<style scoped>\n",
       "    .dataframe tbody tr th:only-of-type {\n",
       "        vertical-align: middle;\n",
       "    }\n",
       "\n",
       "    .dataframe tbody tr th {\n",
       "        vertical-align: top;\n",
       "    }\n",
       "\n",
       "    .dataframe thead th {\n",
       "        text-align: right;\n",
       "    }\n",
       "</style>\n",
       "<table border=\"1\" class=\"dataframe\">\n",
       "  <thead>\n",
       "    <tr style=\"text-align: right;\">\n",
       "      <th></th>\n",
       "      <th>CustomerID</th>\n",
       "      <th>Age</th>\n",
       "      <th>Gender</th>\n",
       "      <th>Tenure</th>\n",
       "      <th>Usage Frequency</th>\n",
       "      <th>Support Calls</th>\n",
       "      <th>Payment Delay</th>\n",
       "      <th>Subscription Type</th>\n",
       "      <th>Contract Length</th>\n",
       "      <th>Total Spend</th>\n",
       "      <th>Last Interaction</th>\n",
       "      <th>Churn</th>\n",
       "    </tr>\n",
       "  </thead>\n",
       "  <tbody>\n",
       "    <tr>\n",
       "      <th>0</th>\n",
       "      <td>2.0</td>\n",
       "      <td>30.0</td>\n",
       "      <td>Female</td>\n",
       "      <td>39.0</td>\n",
       "      <td>14.0</td>\n",
       "      <td>5.0</td>\n",
       "      <td>18.0</td>\n",
       "      <td>Standard</td>\n",
       "      <td>Annual</td>\n",
       "      <td>932.0</td>\n",
       "      <td>17.0</td>\n",
       "      <td>1.0</td>\n",
       "    </tr>\n",
       "    <tr>\n",
       "      <th>1</th>\n",
       "      <td>3.0</td>\n",
       "      <td>65.0</td>\n",
       "      <td>Female</td>\n",
       "      <td>49.0</td>\n",
       "      <td>1.0</td>\n",
       "      <td>10.0</td>\n",
       "      <td>8.0</td>\n",
       "      <td>Basic</td>\n",
       "      <td>Monthly</td>\n",
       "      <td>557.0</td>\n",
       "      <td>6.0</td>\n",
       "      <td>1.0</td>\n",
       "    </tr>\n",
       "    <tr>\n",
       "      <th>2</th>\n",
       "      <td>4.0</td>\n",
       "      <td>55.0</td>\n",
       "      <td>Female</td>\n",
       "      <td>14.0</td>\n",
       "      <td>4.0</td>\n",
       "      <td>6.0</td>\n",
       "      <td>18.0</td>\n",
       "      <td>Basic</td>\n",
       "      <td>Quarterly</td>\n",
       "      <td>185.0</td>\n",
       "      <td>3.0</td>\n",
       "      <td>1.0</td>\n",
       "    </tr>\n",
       "    <tr>\n",
       "      <th>3</th>\n",
       "      <td>5.0</td>\n",
       "      <td>58.0</td>\n",
       "      <td>Male</td>\n",
       "      <td>38.0</td>\n",
       "      <td>21.0</td>\n",
       "      <td>7.0</td>\n",
       "      <td>7.0</td>\n",
       "      <td>Standard</td>\n",
       "      <td>Monthly</td>\n",
       "      <td>396.0</td>\n",
       "      <td>29.0</td>\n",
       "      <td>1.0</td>\n",
       "    </tr>\n",
       "    <tr>\n",
       "      <th>4</th>\n",
       "      <td>6.0</td>\n",
       "      <td>23.0</td>\n",
       "      <td>Male</td>\n",
       "      <td>32.0</td>\n",
       "      <td>20.0</td>\n",
       "      <td>5.0</td>\n",
       "      <td>8.0</td>\n",
       "      <td>Basic</td>\n",
       "      <td>Monthly</td>\n",
       "      <td>617.0</td>\n",
       "      <td>20.0</td>\n",
       "      <td>1.0</td>\n",
       "    </tr>\n",
       "  </tbody>\n",
       "</table>\n",
       "</div>"
      ],
      "text/plain": [
       "   CustomerID   Age  Gender  Tenure  Usage Frequency  Support Calls  \\\n",
       "0         2.0  30.0  Female    39.0             14.0            5.0   \n",
       "1         3.0  65.0  Female    49.0              1.0           10.0   \n",
       "2         4.0  55.0  Female    14.0              4.0            6.0   \n",
       "3         5.0  58.0    Male    38.0             21.0            7.0   \n",
       "4         6.0  23.0    Male    32.0             20.0            5.0   \n",
       "\n",
       "   Payment Delay Subscription Type Contract Length  Total Spend  \\\n",
       "0           18.0          Standard          Annual        932.0   \n",
       "1            8.0             Basic         Monthly        557.0   \n",
       "2           18.0             Basic       Quarterly        185.0   \n",
       "3            7.0          Standard         Monthly        396.0   \n",
       "4            8.0             Basic         Monthly        617.0   \n",
       "\n",
       "   Last Interaction  Churn  \n",
       "0              17.0    1.0  \n",
       "1               6.0    1.0  \n",
       "2               3.0    1.0  \n",
       "3              29.0    1.0  \n",
       "4              20.0    1.0  "
      ]
     },
     "execution_count": 3,
     "metadata": {},
     "output_type": "execute_result"
    }
   ],
   "source": [
    "train_data.head()"
   ]
  },
  {
   "cell_type": "markdown",
   "id": "1a572973",
   "metadata": {
    "papermill": {
     "duration": 0.00679,
     "end_time": "2024-11-21T13:50:11.401382",
     "exception": false,
     "start_time": "2024-11-21T13:50:11.394592",
     "status": "completed"
    },
    "tags": []
   },
   "source": [
    "**3. Exploring the data**\n",
    "\n",
    "\n"
   ]
  },
  {
   "cell_type": "markdown",
   "id": "cf35a224",
   "metadata": {
    "papermill": {
     "duration": 0.006788,
     "end_time": "2024-11-21T13:50:11.415292",
     "exception": false,
     "start_time": "2024-11-21T13:50:11.408504",
     "status": "completed"
    },
    "tags": []
   },
   "source": [
    "* info() is used to get the basic information about the data like columns, datatype and null value.\n"
   ]
  },
  {
   "cell_type": "code",
   "execution_count": 4,
   "id": "19d3d486",
   "metadata": {
    "execution": {
     "iopub.execute_input": "2024-11-21T13:50:11.431916Z",
     "iopub.status.busy": "2024-11-21T13:50:11.431445Z",
     "iopub.status.idle": "2024-11-21T13:50:11.534815Z",
     "shell.execute_reply": "2024-11-21T13:50:11.533225Z"
    },
    "papermill": {
     "duration": 0.114838,
     "end_time": "2024-11-21T13:50:11.537335",
     "exception": false,
     "start_time": "2024-11-21T13:50:11.422497",
     "status": "completed"
    },
    "tags": []
   },
   "outputs": [
    {
     "name": "stdout",
     "output_type": "stream",
     "text": [
      "<class 'pandas.core.frame.DataFrame'>\n",
      "RangeIndex: 440833 entries, 0 to 440832\n",
      "Data columns (total 12 columns):\n",
      " #   Column             Non-Null Count   Dtype  \n",
      "---  ------             --------------   -----  \n",
      " 0   CustomerID         440832 non-null  float64\n",
      " 1   Age                440832 non-null  float64\n",
      " 2   Gender             440832 non-null  object \n",
      " 3   Tenure             440832 non-null  float64\n",
      " 4   Usage Frequency    440832 non-null  float64\n",
      " 5   Support Calls      440832 non-null  float64\n",
      " 6   Payment Delay      440832 non-null  float64\n",
      " 7   Subscription Type  440832 non-null  object \n",
      " 8   Contract Length    440832 non-null  object \n",
      " 9   Total Spend        440832 non-null  float64\n",
      " 10  Last Interaction   440832 non-null  float64\n",
      " 11  Churn              440832 non-null  float64\n",
      "dtypes: float64(9), object(3)\n",
      "memory usage: 40.4+ MB\n",
      "None\n"
     ]
    }
   ],
   "source": [
    "print(train_data.info())"
   ]
  },
  {
   "cell_type": "markdown",
   "id": "40c6b04a",
   "metadata": {
    "papermill": {
     "duration": 0.007073,
     "end_time": "2024-11-21T13:50:11.551638",
     "exception": false,
     "start_time": "2024-11-21T13:50:11.544565",
     "status": "completed"
    },
    "tags": []
   },
   "source": [
    "* describe() is used to get the statistical information like mean , min , max etc.\n"
   ]
  },
  {
   "cell_type": "code",
   "execution_count": 5,
   "id": "53489c43",
   "metadata": {
    "execution": {
     "iopub.execute_input": "2024-11-21T13:50:11.569275Z",
     "iopub.status.busy": "2024-11-21T13:50:11.568803Z",
     "iopub.status.idle": "2024-11-21T13:50:11.866054Z",
     "shell.execute_reply": "2024-11-21T13:50:11.864627Z"
    },
    "papermill": {
     "duration": 0.309884,
     "end_time": "2024-11-21T13:50:11.869077",
     "exception": false,
     "start_time": "2024-11-21T13:50:11.559193",
     "status": "completed"
    },
    "tags": []
   },
   "outputs": [
    {
     "name": "stdout",
     "output_type": "stream",
     "text": [
      "          CustomerID            Age         Tenure  Usage Frequency  \\\n",
      "count  440832.000000  440832.000000  440832.000000    440832.000000   \n",
      "mean   225398.667955      39.373153      31.256336        15.807494   \n",
      "std    129531.918550      12.442369      17.255727         8.586242   \n",
      "min         2.000000      18.000000       1.000000         1.000000   \n",
      "25%    113621.750000      29.000000      16.000000         9.000000   \n",
      "50%    226125.500000      39.000000      32.000000        16.000000   \n",
      "75%    337739.250000      48.000000      46.000000        23.000000   \n",
      "max    449999.000000      65.000000      60.000000        30.000000   \n",
      "\n",
      "       Support Calls  Payment Delay    Total Spend  Last Interaction  \\\n",
      "count  440832.000000  440832.000000  440832.000000     440832.000000   \n",
      "mean        3.604437      12.965722     631.616223         14.480868   \n",
      "std         3.070218       8.258063     240.803001          8.596208   \n",
      "min         0.000000       0.000000     100.000000          1.000000   \n",
      "25%         1.000000       6.000000     480.000000          7.000000   \n",
      "50%         3.000000      12.000000     661.000000         14.000000   \n",
      "75%         6.000000      19.000000     830.000000         22.000000   \n",
      "max        10.000000      30.000000    1000.000000         30.000000   \n",
      "\n",
      "               Churn  \n",
      "count  440832.000000  \n",
      "mean        0.567107  \n",
      "std         0.495477  \n",
      "min         0.000000  \n",
      "25%         0.000000  \n",
      "50%         1.000000  \n",
      "75%         1.000000  \n",
      "max         1.000000  \n"
     ]
    }
   ],
   "source": [
    "print(train_data.describe())"
   ]
  },
  {
   "cell_type": "markdown",
   "id": "520ad28a",
   "metadata": {
    "papermill": {
     "duration": 0.007297,
     "end_time": "2024-11-21T13:50:11.884008",
     "exception": false,
     "start_time": "2024-11-21T13:50:11.876711",
     "status": "completed"
    },
    "tags": []
   },
   "source": [
    "**4. Data Preprocessing Function**\n"
   ]
  },
  {
   "cell_type": "markdown",
   "id": "33c86c29",
   "metadata": {
    "papermill": {
     "duration": 0.006964,
     "end_time": "2024-11-21T13:50:11.898281",
     "exception": false,
     "start_time": "2024-11-21T13:50:11.891317",
     "status": "completed"
    },
    "tags": []
   },
   "source": [
    "Defining a function name preprocess_data so that multi processing can be done in single function.\n",
    "\n",
    "* Handling the missing values and filling it with the median for only numerical columns.\n",
    "* Using LabelEncoder to change the gender(categorical value) to numberical value for example male=1 ,female=0.\n",
    "* Saving CustomerID separately and droping it from the main DataFrame as it is irrelevant."
   ]
  },
  {
   "cell_type": "code",
   "execution_count": 6,
   "id": "5cccea36",
   "metadata": {
    "execution": {
     "iopub.execute_input": "2024-11-21T13:50:11.915324Z",
     "iopub.status.busy": "2024-11-21T13:50:11.914847Z",
     "iopub.status.idle": "2024-11-21T13:50:11.921801Z",
     "shell.execute_reply": "2024-11-21T13:50:11.920602Z"
    },
    "papermill": {
     "duration": 0.018254,
     "end_time": "2024-11-21T13:50:11.924175",
     "exception": false,
     "start_time": "2024-11-21T13:50:11.905921",
     "status": "completed"
    },
    "tags": []
   },
   "outputs": [],
   "source": [
    "def preprocess_data(data):\n",
    "    numberic_columns=data.select_dtypes(include=['number']).columns\n",
    "    data[numberic_columns]=data[numberic_columns].fillna(data[numberic_columns].median())\n",
    "    if 'Gender' in data.columns:\n",
    "        label_enc=LabelEncoder()\n",
    "        data['Gender']=label_enc.fit_transform(data['Gender'])\n",
    "    if 'CustomerID'in data.columns:\n",
    "        data['CustomerID'] = data['CustomerID']\n",
    "    data = pd.get_dummies(data, drop_first=True)  \n",
    "    return data\n",
    "        "
   ]
  },
  {
   "cell_type": "markdown",
   "id": "06d3a62d",
   "metadata": {
    "papermill": {
     "duration": 0.007199,
     "end_time": "2024-11-21T13:50:11.939135",
     "exception": false,
     "start_time": "2024-11-21T13:50:11.931936",
     "status": "completed"
    },
    "tags": []
   },
   "source": [
    "**5. Preprocessing the training and testing data**"
   ]
  },
  {
   "cell_type": "markdown",
   "id": "5679477b",
   "metadata": {
    "papermill": {
     "duration": 0.007223,
     "end_time": "2024-11-21T13:50:11.954079",
     "exception": false,
     "start_time": "2024-11-21T13:50:11.946856",
     "status": "completed"
    },
    "tags": []
   },
   "source": [
    "* Cleans both trainig and testing data using the preprocessing function"
   ]
  },
  {
   "cell_type": "code",
   "execution_count": 7,
   "id": "7e697df2",
   "metadata": {
    "execution": {
     "iopub.execute_input": "2024-11-21T13:50:11.971580Z",
     "iopub.status.busy": "2024-11-21T13:50:11.971173Z",
     "iopub.status.idle": "2024-11-21T13:50:12.456434Z",
     "shell.execute_reply": "2024-11-21T13:50:12.455044Z"
    },
    "papermill": {
     "duration": 0.497233,
     "end_time": "2024-11-21T13:50:12.459435",
     "exception": false,
     "start_time": "2024-11-21T13:50:11.962202",
     "status": "completed"
    },
    "tags": []
   },
   "outputs": [],
   "source": [
    "train_data=preprocess_data(train_data)\n",
    "X_test=preprocess_data(test_data)"
   ]
  },
  {
   "cell_type": "markdown",
   "id": "b391a672",
   "metadata": {
    "papermill": {
     "duration": 0.007191,
     "end_time": "2024-11-21T13:50:12.474502",
     "exception": false,
     "start_time": "2024-11-21T13:50:12.467311",
     "status": "completed"
    },
    "tags": []
   },
   "source": [
    "**6. Spliting Training Data into Features and Labels**"
   ]
  },
  {
   "cell_type": "markdown",
   "id": "d3afe741",
   "metadata": {
    "papermill": {
     "duration": 0.007036,
     "end_time": "2024-11-21T13:50:12.488845",
     "exception": false,
     "start_time": "2024-11-21T13:50:12.481809",
     "status": "completed"
    },
    "tags": []
   },
   "source": [
    "* Features are the characteristics of the data that helps in training the model.\n",
    "* X: Predictors Variable.\n",
    "* Labels are also known as Target Variable that is the result classified based on Feature.(Returns 0 for no churn and 1 for churn)\n",
    "* Y: Target Variable."
   ]
  },
  {
   "cell_type": "code",
   "execution_count": 8,
   "id": "62cf2e8c",
   "metadata": {
    "execution": {
     "iopub.execute_input": "2024-11-21T13:50:12.505739Z",
     "iopub.status.busy": "2024-11-21T13:50:12.505108Z",
     "iopub.status.idle": "2024-11-21T13:50:12.523506Z",
     "shell.execute_reply": "2024-11-21T13:50:12.522124Z"
    },
    "papermill": {
     "duration": 0.029897,
     "end_time": "2024-11-21T13:50:12.526124",
     "exception": false,
     "start_time": "2024-11-21T13:50:12.496227",
     "status": "completed"
    },
    "tags": []
   },
   "outputs": [],
   "source": [
    "X=train_data.drop(\"Churn\",axis=1)\n",
    "y=train_data[\"Churn\"]"
   ]
  },
  {
   "cell_type": "markdown",
   "id": "8bf98ef0",
   "metadata": {
    "papermill": {
     "duration": 0.006931,
     "end_time": "2024-11-21T13:50:12.540368",
     "exception": false,
     "start_time": "2024-11-21T13:50:12.533437",
     "status": "completed"
    },
    "tags": []
   },
   "source": [
    " * Ensure the test set has the same columns as training data"
   ]
  },
  {
   "cell_type": "code",
   "execution_count": 9,
   "id": "62896a23",
   "metadata": {
    "execution": {
     "iopub.execute_input": "2024-11-21T13:50:12.556907Z",
     "iopub.status.busy": "2024-11-21T13:50:12.556457Z",
     "iopub.status.idle": "2024-11-21T13:50:12.564216Z",
     "shell.execute_reply": "2024-11-21T13:50:12.562797Z"
    },
    "papermill": {
     "duration": 0.019191,
     "end_time": "2024-11-21T13:50:12.566753",
     "exception": false,
     "start_time": "2024-11-21T13:50:12.547562",
     "status": "completed"
    },
    "tags": []
   },
   "outputs": [],
   "source": [
    "X_test = X_test.reindex(columns=X.columns, fill_value=0)"
   ]
  },
  {
   "cell_type": "markdown",
   "id": "43fe6753",
   "metadata": {
    "papermill": {
     "duration": 0.006915,
     "end_time": "2024-11-21T13:50:12.581161",
     "exception": false,
     "start_time": "2024-11-21T13:50:12.574246",
     "status": "completed"
    },
    "tags": []
   },
   "source": [
    "**7. Feature Scaling**"
   ]
  },
  {
   "cell_type": "markdown",
   "id": "2b8d1af1",
   "metadata": {
    "papermill": {
     "duration": 0.006894,
     "end_time": "2024-11-21T13:50:12.595368",
     "exception": false,
     "start_time": "2024-11-21T13:50:12.588474",
     "status": "completed"
    },
    "tags": []
   },
   "source": [
    "* Standardizing the data for better performance by normalizing the feature to have mean=0 and standard deviation=1."
   ]
  },
  {
   "cell_type": "code",
   "execution_count": 10,
   "id": "bf5cf25d",
   "metadata": {
    "execution": {
     "iopub.execute_input": "2024-11-21T13:50:12.612291Z",
     "iopub.status.busy": "2024-11-21T13:50:12.611390Z",
     "iopub.status.idle": "2024-11-21T13:50:13.092222Z",
     "shell.execute_reply": "2024-11-21T13:50:13.090883Z"
    },
    "papermill": {
     "duration": 0.492592,
     "end_time": "2024-11-21T13:50:13.095159",
     "exception": false,
     "start_time": "2024-11-21T13:50:12.602567",
     "status": "completed"
    },
    "tags": []
   },
   "outputs": [],
   "source": [
    "scaler=StandardScaler()\n",
    "X_scaled=scaler.fit_transform(X)\n",
    "X_test_scaled=scaler.fit_transform(X_test)\n"
   ]
  },
  {
   "cell_type": "markdown",
   "id": "5dcf9fd1",
   "metadata": {
    "papermill": {
     "duration": 0.00744,
     "end_time": "2024-11-21T13:50:13.110568",
     "exception": false,
     "start_time": "2024-11-21T13:50:13.103128",
     "status": "completed"
    },
    "tags": []
   },
   "source": [
    "**8. Spliting the Data for Validation**"
   ]
  },
  {
   "cell_type": "markdown",
   "id": "111d4247",
   "metadata": {
    "papermill": {
     "duration": 0.00723,
     "end_time": "2024-11-21T13:50:13.126122",
     "exception": false,
     "start_time": "2024-11-21T13:50:13.118892",
     "status": "completed"
    },
    "tags": []
   },
   "source": [
    "* Spliting the data into training(80%) and validation(20%) sets for model evaluation.\n"
   ]
  },
  {
   "cell_type": "code",
   "execution_count": 11,
   "id": "d3ba020d",
   "metadata": {
    "execution": {
     "iopub.execute_input": "2024-11-21T13:50:13.142964Z",
     "iopub.status.busy": "2024-11-21T13:50:13.142537Z",
     "iopub.status.idle": "2024-11-21T13:50:13.293577Z",
     "shell.execute_reply": "2024-11-21T13:50:13.292213Z"
    },
    "papermill": {
     "duration": 0.164008,
     "end_time": "2024-11-21T13:50:13.297737",
     "exception": false,
     "start_time": "2024-11-21T13:50:13.133729",
     "status": "completed"
    },
    "tags": []
   },
   "outputs": [],
   "source": [
    "X_train,X_val,y_train,y_val=train_test_split(X_scaled,y ,test_size=0.2 ,random_state=42)"
   ]
  },
  {
   "cell_type": "markdown",
   "id": "99a44184",
   "metadata": {
    "papermill": {
     "duration": 0.010369,
     "end_time": "2024-11-21T13:50:13.320487",
     "exception": false,
     "start_time": "2024-11-21T13:50:13.310118",
     "status": "completed"
    },
    "tags": []
   },
   "source": [
    "**9. Model Training**"
   ]
  },
  {
   "cell_type": "markdown",
   "id": "0ea7c757",
   "metadata": {
    "papermill": {
     "duration": 0.007296,
     "end_time": "2024-11-21T13:50:13.335651",
     "exception": false,
     "start_time": "2024-11-21T13:50:13.328355",
     "status": "completed"
    },
    "tags": []
   },
   "source": [
    "* **Random Forest:** Trainig random forest model with 100 decision trees."
   ]
  },
  {
   "cell_type": "code",
   "execution_count": 12,
   "id": "a582a310",
   "metadata": {
    "execution": {
     "iopub.execute_input": "2024-11-21T13:50:13.352662Z",
     "iopub.status.busy": "2024-11-21T13:50:13.352271Z",
     "iopub.status.idle": "2024-11-21T13:50:46.901944Z",
     "shell.execute_reply": "2024-11-21T13:50:46.900788Z"
    },
    "papermill": {
     "duration": 33.569003,
     "end_time": "2024-11-21T13:50:46.912230",
     "exception": false,
     "start_time": "2024-11-21T13:50:13.343227",
     "status": "completed"
    },
    "tags": []
   },
   "outputs": [
    {
     "data": {
      "text/html": [
       "<style>#sk-container-id-1 {color: black;background-color: white;}#sk-container-id-1 pre{padding: 0;}#sk-container-id-1 div.sk-toggleable {background-color: white;}#sk-container-id-1 label.sk-toggleable__label {cursor: pointer;display: block;width: 100%;margin-bottom: 0;padding: 0.3em;box-sizing: border-box;text-align: center;}#sk-container-id-1 label.sk-toggleable__label-arrow:before {content: \"▸\";float: left;margin-right: 0.25em;color: #696969;}#sk-container-id-1 label.sk-toggleable__label-arrow:hover:before {color: black;}#sk-container-id-1 div.sk-estimator:hover label.sk-toggleable__label-arrow:before {color: black;}#sk-container-id-1 div.sk-toggleable__content {max-height: 0;max-width: 0;overflow: hidden;text-align: left;background-color: #f0f8ff;}#sk-container-id-1 div.sk-toggleable__content pre {margin: 0.2em;color: black;border-radius: 0.25em;background-color: #f0f8ff;}#sk-container-id-1 input.sk-toggleable__control:checked~div.sk-toggleable__content {max-height: 200px;max-width: 100%;overflow: auto;}#sk-container-id-1 input.sk-toggleable__control:checked~label.sk-toggleable__label-arrow:before {content: \"▾\";}#sk-container-id-1 div.sk-estimator input.sk-toggleable__control:checked~label.sk-toggleable__label {background-color: #d4ebff;}#sk-container-id-1 div.sk-label input.sk-toggleable__control:checked~label.sk-toggleable__label {background-color: #d4ebff;}#sk-container-id-1 input.sk-hidden--visually {border: 0;clip: rect(1px 1px 1px 1px);clip: rect(1px, 1px, 1px, 1px);height: 1px;margin: -1px;overflow: hidden;padding: 0;position: absolute;width: 1px;}#sk-container-id-1 div.sk-estimator {font-family: monospace;background-color: #f0f8ff;border: 1px dotted black;border-radius: 0.25em;box-sizing: border-box;margin-bottom: 0.5em;}#sk-container-id-1 div.sk-estimator:hover {background-color: #d4ebff;}#sk-container-id-1 div.sk-parallel-item::after {content: \"\";width: 100%;border-bottom: 1px solid gray;flex-grow: 1;}#sk-container-id-1 div.sk-label:hover label.sk-toggleable__label {background-color: #d4ebff;}#sk-container-id-1 div.sk-serial::before {content: \"\";position: absolute;border-left: 1px solid gray;box-sizing: border-box;top: 0;bottom: 0;left: 50%;z-index: 0;}#sk-container-id-1 div.sk-serial {display: flex;flex-direction: column;align-items: center;background-color: white;padding-right: 0.2em;padding-left: 0.2em;position: relative;}#sk-container-id-1 div.sk-item {position: relative;z-index: 1;}#sk-container-id-1 div.sk-parallel {display: flex;align-items: stretch;justify-content: center;background-color: white;position: relative;}#sk-container-id-1 div.sk-item::before, #sk-container-id-1 div.sk-parallel-item::before {content: \"\";position: absolute;border-left: 1px solid gray;box-sizing: border-box;top: 0;bottom: 0;left: 50%;z-index: -1;}#sk-container-id-1 div.sk-parallel-item {display: flex;flex-direction: column;z-index: 1;position: relative;background-color: white;}#sk-container-id-1 div.sk-parallel-item:first-child::after {align-self: flex-end;width: 50%;}#sk-container-id-1 div.sk-parallel-item:last-child::after {align-self: flex-start;width: 50%;}#sk-container-id-1 div.sk-parallel-item:only-child::after {width: 0;}#sk-container-id-1 div.sk-dashed-wrapped {border: 1px dashed gray;margin: 0 0.4em 0.5em 0.4em;box-sizing: border-box;padding-bottom: 0.4em;background-color: white;}#sk-container-id-1 div.sk-label label {font-family: monospace;font-weight: bold;display: inline-block;line-height: 1.2em;}#sk-container-id-1 div.sk-label-container {text-align: center;}#sk-container-id-1 div.sk-container {/* jupyter's `normalize.less` sets `[hidden] { display: none; }` but bootstrap.min.css set `[hidden] { display: none !important; }` so we also need the `!important` here to be able to override the default hidden behavior on the sphinx rendered scikit-learn.org. See: https://github.com/scikit-learn/scikit-learn/issues/21755 */display: inline-block !important;position: relative;}#sk-container-id-1 div.sk-text-repr-fallback {display: none;}</style><div id=\"sk-container-id-1\" class=\"sk-top-container\"><div class=\"sk-text-repr-fallback\"><pre>RandomForestClassifier(random_state=42)</pre><b>In a Jupyter environment, please rerun this cell to show the HTML representation or trust the notebook. <br />On GitHub, the HTML representation is unable to render, please try loading this page with nbviewer.org.</b></div><div class=\"sk-container\" hidden><div class=\"sk-item\"><div class=\"sk-estimator sk-toggleable\"><input class=\"sk-toggleable__control sk-hidden--visually\" id=\"sk-estimator-id-1\" type=\"checkbox\" checked><label for=\"sk-estimator-id-1\" class=\"sk-toggleable__label sk-toggleable__label-arrow\">RandomForestClassifier</label><div class=\"sk-toggleable__content\"><pre>RandomForestClassifier(random_state=42)</pre></div></div></div></div></div>"
      ],
      "text/plain": [
       "RandomForestClassifier(random_state=42)"
      ]
     },
     "execution_count": 12,
     "metadata": {},
     "output_type": "execute_result"
    }
   ],
   "source": [
    "rf_model=RandomForestClassifier(n_estimators=100 , random_state=42)\n",
    "rf_model.fit(X_train,y_train)"
   ]
  },
  {
   "cell_type": "markdown",
   "id": "29f6cd13",
   "metadata": {
    "papermill": {
     "duration": 0.007595,
     "end_time": "2024-11-21T13:50:46.927572",
     "exception": false,
     "start_time": "2024-11-21T13:50:46.919977",
     "status": "completed"
    },
    "tags": []
   },
   "source": [
    "* **Gradient Boosting :** Training Gradient Boosting model with 100 estimators and 0.1 learning rate."
   ]
  },
  {
   "cell_type": "code",
   "execution_count": 13,
   "id": "441d7ddf",
   "metadata": {
    "execution": {
     "iopub.execute_input": "2024-11-21T13:50:46.945249Z",
     "iopub.status.busy": "2024-11-21T13:50:46.944749Z",
     "iopub.status.idle": "2024-11-21T13:52:35.008528Z",
     "shell.execute_reply": "2024-11-21T13:52:35.007284Z"
    },
    "papermill": {
     "duration": 108.090076,
     "end_time": "2024-11-21T13:52:35.025417",
     "exception": false,
     "start_time": "2024-11-21T13:50:46.935341",
     "status": "completed"
    },
    "tags": []
   },
   "outputs": [
    {
     "data": {
      "text/html": [
       "<style>#sk-container-id-2 {color: black;background-color: white;}#sk-container-id-2 pre{padding: 0;}#sk-container-id-2 div.sk-toggleable {background-color: white;}#sk-container-id-2 label.sk-toggleable__label {cursor: pointer;display: block;width: 100%;margin-bottom: 0;padding: 0.3em;box-sizing: border-box;text-align: center;}#sk-container-id-2 label.sk-toggleable__label-arrow:before {content: \"▸\";float: left;margin-right: 0.25em;color: #696969;}#sk-container-id-2 label.sk-toggleable__label-arrow:hover:before {color: black;}#sk-container-id-2 div.sk-estimator:hover label.sk-toggleable__label-arrow:before {color: black;}#sk-container-id-2 div.sk-toggleable__content {max-height: 0;max-width: 0;overflow: hidden;text-align: left;background-color: #f0f8ff;}#sk-container-id-2 div.sk-toggleable__content pre {margin: 0.2em;color: black;border-radius: 0.25em;background-color: #f0f8ff;}#sk-container-id-2 input.sk-toggleable__control:checked~div.sk-toggleable__content {max-height: 200px;max-width: 100%;overflow: auto;}#sk-container-id-2 input.sk-toggleable__control:checked~label.sk-toggleable__label-arrow:before {content: \"▾\";}#sk-container-id-2 div.sk-estimator input.sk-toggleable__control:checked~label.sk-toggleable__label {background-color: #d4ebff;}#sk-container-id-2 div.sk-label input.sk-toggleable__control:checked~label.sk-toggleable__label {background-color: #d4ebff;}#sk-container-id-2 input.sk-hidden--visually {border: 0;clip: rect(1px 1px 1px 1px);clip: rect(1px, 1px, 1px, 1px);height: 1px;margin: -1px;overflow: hidden;padding: 0;position: absolute;width: 1px;}#sk-container-id-2 div.sk-estimator {font-family: monospace;background-color: #f0f8ff;border: 1px dotted black;border-radius: 0.25em;box-sizing: border-box;margin-bottom: 0.5em;}#sk-container-id-2 div.sk-estimator:hover {background-color: #d4ebff;}#sk-container-id-2 div.sk-parallel-item::after {content: \"\";width: 100%;border-bottom: 1px solid gray;flex-grow: 1;}#sk-container-id-2 div.sk-label:hover label.sk-toggleable__label {background-color: #d4ebff;}#sk-container-id-2 div.sk-serial::before {content: \"\";position: absolute;border-left: 1px solid gray;box-sizing: border-box;top: 0;bottom: 0;left: 50%;z-index: 0;}#sk-container-id-2 div.sk-serial {display: flex;flex-direction: column;align-items: center;background-color: white;padding-right: 0.2em;padding-left: 0.2em;position: relative;}#sk-container-id-2 div.sk-item {position: relative;z-index: 1;}#sk-container-id-2 div.sk-parallel {display: flex;align-items: stretch;justify-content: center;background-color: white;position: relative;}#sk-container-id-2 div.sk-item::before, #sk-container-id-2 div.sk-parallel-item::before {content: \"\";position: absolute;border-left: 1px solid gray;box-sizing: border-box;top: 0;bottom: 0;left: 50%;z-index: -1;}#sk-container-id-2 div.sk-parallel-item {display: flex;flex-direction: column;z-index: 1;position: relative;background-color: white;}#sk-container-id-2 div.sk-parallel-item:first-child::after {align-self: flex-end;width: 50%;}#sk-container-id-2 div.sk-parallel-item:last-child::after {align-self: flex-start;width: 50%;}#sk-container-id-2 div.sk-parallel-item:only-child::after {width: 0;}#sk-container-id-2 div.sk-dashed-wrapped {border: 1px dashed gray;margin: 0 0.4em 0.5em 0.4em;box-sizing: border-box;padding-bottom: 0.4em;background-color: white;}#sk-container-id-2 div.sk-label label {font-family: monospace;font-weight: bold;display: inline-block;line-height: 1.2em;}#sk-container-id-2 div.sk-label-container {text-align: center;}#sk-container-id-2 div.sk-container {/* jupyter's `normalize.less` sets `[hidden] { display: none; }` but bootstrap.min.css set `[hidden] { display: none !important; }` so we also need the `!important` here to be able to override the default hidden behavior on the sphinx rendered scikit-learn.org. See: https://github.com/scikit-learn/scikit-learn/issues/21755 */display: inline-block !important;position: relative;}#sk-container-id-2 div.sk-text-repr-fallback {display: none;}</style><div id=\"sk-container-id-2\" class=\"sk-top-container\"><div class=\"sk-text-repr-fallback\"><pre>GradientBoostingClassifier()</pre><b>In a Jupyter environment, please rerun this cell to show the HTML representation or trust the notebook. <br />On GitHub, the HTML representation is unable to render, please try loading this page with nbviewer.org.</b></div><div class=\"sk-container\" hidden><div class=\"sk-item\"><div class=\"sk-estimator sk-toggleable\"><input class=\"sk-toggleable__control sk-hidden--visually\" id=\"sk-estimator-id-2\" type=\"checkbox\" checked><label for=\"sk-estimator-id-2\" class=\"sk-toggleable__label sk-toggleable__label-arrow\">GradientBoostingClassifier</label><div class=\"sk-toggleable__content\"><pre>GradientBoostingClassifier()</pre></div></div></div></div></div>"
      ],
      "text/plain": [
       "GradientBoostingClassifier()"
      ]
     },
     "execution_count": 13,
     "metadata": {},
     "output_type": "execute_result"
    }
   ],
   "source": [
    "gb_model=GradientBoostingClassifier(n_estimators=100 ,learning_rate=0.1)\n",
    "gb_model.fit(X_train,y_train)"
   ]
  },
  {
   "cell_type": "markdown",
   "id": "ae8086ea",
   "metadata": {
    "papermill": {
     "duration": 0.007824,
     "end_time": "2024-11-21T13:52:35.041537",
     "exception": false,
     "start_time": "2024-11-21T13:52:35.033713",
     "status": "completed"
    },
    "tags": []
   },
   "source": [
    "**10. Evaluating the model**"
   ]
  },
  {
   "cell_type": "markdown",
   "id": "7af8a988",
   "metadata": {
    "papermill": {
     "duration": 0.008022,
     "end_time": "2024-11-21T13:52:35.057795",
     "exception": false,
     "start_time": "2024-11-21T13:52:35.049773",
     "status": "completed"
    },
    "tags": []
   },
   "source": [
    "* Makes the prediction on validating sets and computing the accuracy score for both the models."
   ]
  },
  {
   "cell_type": "code",
   "execution_count": 14,
   "id": "535f37ee",
   "metadata": {
    "execution": {
     "iopub.execute_input": "2024-11-21T13:52:35.077200Z",
     "iopub.status.busy": "2024-11-21T13:52:35.076676Z",
     "iopub.status.idle": "2024-11-21T13:52:35.994121Z",
     "shell.execute_reply": "2024-11-21T13:52:35.992553Z"
    },
    "papermill": {
     "duration": 0.930557,
     "end_time": "2024-11-21T13:52:35.997153",
     "exception": false,
     "start_time": "2024-11-21T13:52:35.066596",
     "status": "completed"
    },
    "tags": []
   },
   "outputs": [
    {
     "name": "stdout",
     "output_type": "stream",
     "text": [
      "Random Forest Accuracy Score:  0.9995122891784908\n",
      "Gradient Boosting Accuracy Score:  0.9988090782265473\n"
     ]
    }
   ],
   "source": [
    "rf_preds=rf_model.predict(X_val)\n",
    "gb_preds=gb_model.predict(X_val)\n",
    "print(\"Random Forest Accuracy Score: \",accuracy_score(y_val,rf_preds))\n",
    "print(\"Gradient Boosting Accuracy Score: \",accuracy_score(y_val,gb_preds))"
   ]
  },
  {
   "cell_type": "markdown",
   "id": "4088fec4",
   "metadata": {
    "papermill": {
     "duration": 0.007788,
     "end_time": "2024-11-21T13:52:36.013602",
     "exception": false,
     "start_time": "2024-11-21T13:52:36.005814",
     "status": "completed"
    },
    "tags": []
   },
   "source": [
    "**11. Selecting the best model**"
   ]
  },
  {
   "cell_type": "markdown",
   "id": "7e11f0d4",
   "metadata": {
    "papermill": {
     "duration": 0.007506,
     "end_time": "2024-11-21T13:52:36.029241",
     "exception": false,
     "start_time": "2024-11-21T13:52:36.021735",
     "status": "completed"
    },
    "tags": []
   },
   "source": [
    "* Both models score are good but choosing Gradient Boosting model as it has more score than Random Forest .\n",
    "* Using Gradient Boosting as a final Model for final Predictions."
   ]
  },
  {
   "cell_type": "code",
   "execution_count": 15,
   "id": "99fb2b93",
   "metadata": {
    "execution": {
     "iopub.execute_input": "2024-11-21T13:52:36.048277Z",
     "iopub.status.busy": "2024-11-21T13:52:36.047746Z",
     "iopub.status.idle": "2024-11-21T13:52:36.053492Z",
     "shell.execute_reply": "2024-11-21T13:52:36.052352Z"
    },
    "papermill": {
     "duration": 0.018501,
     "end_time": "2024-11-21T13:52:36.055642",
     "exception": false,
     "start_time": "2024-11-21T13:52:36.037141",
     "status": "completed"
    },
    "tags": []
   },
   "outputs": [],
   "source": [
    "final_model=gb_model"
   ]
  },
  {
   "cell_type": "markdown",
   "id": "234d4023",
   "metadata": {
    "papermill": {
     "duration": 0.007409,
     "end_time": "2024-11-21T13:52:36.070855",
     "exception": false,
     "start_time": "2024-11-21T13:52:36.063446",
     "status": "completed"
    },
    "tags": []
   },
   "source": [
    "**12. Prediction on Test Data**"
   ]
  },
  {
   "cell_type": "markdown",
   "id": "bda77041",
   "metadata": {
    "papermill": {
     "duration": 0.007445,
     "end_time": "2024-11-21T13:52:36.086230",
     "exception": false,
     "start_time": "2024-11-21T13:52:36.078785",
     "status": "completed"
    },
    "tags": []
   },
   "source": [
    "* Predicts churn for test data."
   ]
  },
  {
   "cell_type": "code",
   "execution_count": 16,
   "id": "415e2387",
   "metadata": {
    "execution": {
     "iopub.execute_input": "2024-11-21T13:52:36.103829Z",
     "iopub.status.busy": "2024-11-21T13:52:36.103395Z",
     "iopub.status.idle": "2024-11-21T13:52:36.228233Z",
     "shell.execute_reply": "2024-11-21T13:52:36.227159Z"
    },
    "papermill": {
     "duration": 0.136972,
     "end_time": "2024-11-21T13:52:36.231108",
     "exception": false,
     "start_time": "2024-11-21T13:52:36.094136",
     "status": "completed"
    },
    "tags": []
   },
   "outputs": [],
   "source": [
    "test_preds=final_model.predict(X_test_scaled)"
   ]
  },
  {
   "cell_type": "markdown",
   "id": "56fa753e",
   "metadata": {
    "papermill": {
     "duration": 0.007735,
     "end_time": "2024-11-21T13:52:36.247253",
     "exception": false,
     "start_time": "2024-11-21T13:52:36.239518",
     "status": "completed"
    },
    "tags": []
   },
   "source": [
    "**Saving the Final Output in Csv**"
   ]
  },
  {
   "cell_type": "code",
   "execution_count": 17,
   "id": "cc596442",
   "metadata": {
    "execution": {
     "iopub.execute_input": "2024-11-21T13:52:36.265275Z",
     "iopub.status.busy": "2024-11-21T13:52:36.264851Z",
     "iopub.status.idle": "2024-11-21T13:52:36.344001Z",
     "shell.execute_reply": "2024-11-21T13:52:36.342552Z"
    },
    "papermill": {
     "duration": 0.091501,
     "end_time": "2024-11-21T13:52:36.346896",
     "exception": false,
     "start_time": "2024-11-21T13:52:36.255395",
     "status": "completed"
    },
    "tags": []
   },
   "outputs": [
    {
     "name": "stdout",
     "output_type": "stream",
     "text": [
      "Predictions saved to churn_predictions.csv\n"
     ]
    }
   ],
   "source": [
    "output=pd.DataFrame({'CustomerID':test_data['CustomerID'],'churn_prediction':test_preds})\n",
    "output.to_csv('churn_predictions.csv',index=False)\n",
    "print(\"Predictions saved to churn_predictions.csv\")\n"
   ]
  }
 ],
 "metadata": {
  "kaggle": {
   "accelerator": "none",
   "dataSources": [
    {
     "datasetId": 3404076,
     "sourceId": 5929113,
     "sourceType": "datasetVersion"
    }
   ],
   "dockerImageVersionId": 30786,
   "isGpuEnabled": false,
   "isInternetEnabled": true,
   "language": "python",
   "sourceType": "notebook"
  },
  "kernelspec": {
   "display_name": "Python 3",
   "language": "python",
   "name": "python3"
  },
  "language_info": {
   "codemirror_mode": {
    "name": "ipython",
    "version": 3
   },
   "file_extension": ".py",
   "mimetype": "text/x-python",
   "name": "python",
   "nbconvert_exporter": "python",
   "pygments_lexer": "ipython3",
   "version": "3.10.14"
  },
  "papermill": {
   "default_parameters": {},
   "duration": 152.971225,
   "end_time": "2024-11-21T13:52:37.279216",
   "environment_variables": {},
   "exception": null,
   "input_path": "__notebook__.ipynb",
   "output_path": "__notebook__.ipynb",
   "parameters": {},
   "start_time": "2024-11-21T13:50:04.307991",
   "version": "2.6.0"
  }
 },
 "nbformat": 4,
 "nbformat_minor": 5
}
