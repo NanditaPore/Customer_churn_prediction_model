{
 "cells": [
  {
   "cell_type": "markdown",
   "id": "2cebf8b7",
   "metadata": {
    "papermill": {
     "duration": 0.009529,
     "end_time": "2024-11-21T14:01:36.342753",
     "exception": false,
     "start_time": "2024-11-21T14:01:36.333224",
     "status": "completed"
    },
    "tags": []
   },
   "source": [
    "**Customer Churn Prediction Model**"
   ]
  },
  {
   "cell_type": "markdown",
   "id": "5b3b6096",
   "metadata": {
    "papermill": {
     "duration": 0.006582,
     "end_time": "2024-11-21T14:01:36.357032",
     "exception": false,
     "start_time": "2024-11-21T14:01:36.350450",
     "status": "completed"
    },
    "tags": []
   },
   "source": [
    "**1. Importing Dependencies**\n",
    "\n",
    "* Pandas:Python Library provides Data Structure like DataFrame.\n",
    "* Numpy:It is used in numerical computation of dataset.\n",
    "\n",
    "*Scikit Learn also known as sklearn*\n",
    "\n",
    "*Sklearn Modules*\n",
    "\n",
    "* train_test_split: Used for spliting data into trainig and validating sets.\n",
    "* RandomForestClassifier :Classification model that combines the prediction of decision trees in series.\n",
    "* GradientBoostingClassifier: Classification model that combines the prediction of decision trees in sequence.\n",
    "* accuracy_score:Measures the proportion of correct predictions.\n",
    "* classifictaion_report:Generates report displaying Presicion, recall, F1score and support that helps in evaluating the classification model.\n",
    "* confusion_matrix:Evaluate the performale by camparing actual and predictions values.\n",
    "* StandardScaler: Preprocesses data by standardizing data to mean and scaling to unit varaince.\n",
    "* LabelEncoder: Converts the categorical varaible into numberical value."
   ]
  },
  {
   "cell_type": "code",
   "execution_count": 1,
   "id": "5d97d0a7",
   "metadata": {
    "execution": {
     "iopub.execute_input": "2024-11-21T14:01:36.372753Z",
     "iopub.status.busy": "2024-11-21T14:01:36.372341Z",
     "iopub.status.idle": "2024-11-21T14:01:39.199646Z",
     "shell.execute_reply": "2024-11-21T14:01:39.198321Z"
    },
    "papermill": {
     "duration": 2.83845,
     "end_time": "2024-11-21T14:01:39.202555",
     "exception": false,
     "start_time": "2024-11-21T14:01:36.364105",
     "status": "completed"
    },
    "tags": []
   },
   "outputs": [],
   "source": [
    "import pandas as pd\n",
    "import numpy as np\n",
    "from sklearn.model_selection import train_test_split\n",
    "from sklearn.ensemble import RandomForestClassifier , GradientBoostingClassifier\n",
    "from sklearn.metrics import accuracy_score,classification_report ,confusion_matrix\n",
    "from sklearn.preprocessing import StandardScaler , LabelEncoder"
   ]
  },
  {
   "cell_type": "markdown",
   "id": "f8745562",
   "metadata": {
    "papermill": {
     "duration": 0.006721,
     "end_time": "2024-11-21T14:01:39.217913",
     "exception": false,
     "start_time": "2024-11-21T14:01:39.211192",
     "status": "completed"
    },
    "tags": []
   },
   "source": [
    "**2. Loading the data in the pandas dataframe**\n",
    "\n",
    "* train_data variable contains training data which is used in training the model\n",
    "* test_data variable contains testing data which is unseen data for prediction"
   ]
  },
  {
   "cell_type": "code",
   "execution_count": 2,
   "id": "da762e9c",
   "metadata": {
    "execution": {
     "iopub.execute_input": "2024-11-21T14:01:39.233454Z",
     "iopub.status.busy": "2024-11-21T14:01:39.232926Z",
     "iopub.status.idle": "2024-11-21T14:01:40.299335Z",
     "shell.execute_reply": "2024-11-21T14:01:40.298319Z"
    },
    "papermill": {
     "duration": 1.077162,
     "end_time": "2024-11-21T14:01:40.301933",
     "exception": false,
     "start_time": "2024-11-21T14:01:39.224771",
     "status": "completed"
    },
    "tags": []
   },
   "outputs": [],
   "source": [
    "train_data=pd.read_csv(\"/kaggle/input/customer-churn-dataset/customer_churn_dataset-training-master.csv\")\n",
    "test_data=pd.read_csv(\"/kaggle/input/customer-churn-dataset/customer_churn_dataset-testing-master.csv\")"
   ]
  },
  {
   "cell_type": "code",
   "execution_count": 3,
   "id": "cae2d249",
   "metadata": {
    "execution": {
     "iopub.execute_input": "2024-11-21T14:01:40.317999Z",
     "iopub.status.busy": "2024-11-21T14:01:40.317540Z",
     "iopub.status.idle": "2024-11-21T14:01:40.345995Z",
     "shell.execute_reply": "2024-11-21T14:01:40.344800Z"
    },
    "papermill": {
     "duration": 0.039337,
     "end_time": "2024-11-21T14:01:40.348411",
     "exception": false,
     "start_time": "2024-11-21T14:01:40.309074",
     "status": "completed"
    },
    "tags": []
   },
   "outputs": [
    {
     "data": {
      "text/html": [
       "<div>\n",
       "<style scoped>\n",
       "    .dataframe tbody tr th:only-of-type {\n",
       "        vertical-align: middle;\n",
       "    }\n",
       "\n",
       "    .dataframe tbody tr th {\n",
       "        vertical-align: top;\n",
       "    }\n",
       "\n",
       "    .dataframe thead th {\n",
       "        text-align: right;\n",
       "    }\n",
       "</style>\n",
       "<table border=\"1\" class=\"dataframe\">\n",
       "  <thead>\n",
       "    <tr style=\"text-align: right;\">\n",
       "      <th></th>\n",
       "      <th>CustomerID</th>\n",
       "      <th>Age</th>\n",
       "      <th>Gender</th>\n",
       "      <th>Tenure</th>\n",
       "      <th>Usage Frequency</th>\n",
       "      <th>Support Calls</th>\n",
       "      <th>Payment Delay</th>\n",
       "      <th>Subscription Type</th>\n",
       "      <th>Contract Length</th>\n",
       "      <th>Total Spend</th>\n",
       "      <th>Last Interaction</th>\n",
       "      <th>Churn</th>\n",
       "    </tr>\n",
       "  </thead>\n",
       "  <tbody>\n",
       "    <tr>\n",
       "      <th>0</th>\n",
       "      <td>2.0</td>\n",
       "      <td>30.0</td>\n",
       "      <td>Female</td>\n",
       "      <td>39.0</td>\n",
       "      <td>14.0</td>\n",
       "      <td>5.0</td>\n",
       "      <td>18.0</td>\n",
       "      <td>Standard</td>\n",
       "      <td>Annual</td>\n",
       "      <td>932.0</td>\n",
       "      <td>17.0</td>\n",
       "      <td>1.0</td>\n",
       "    </tr>\n",
       "    <tr>\n",
       "      <th>1</th>\n",
       "      <td>3.0</td>\n",
       "      <td>65.0</td>\n",
       "      <td>Female</td>\n",
       "      <td>49.0</td>\n",
       "      <td>1.0</td>\n",
       "      <td>10.0</td>\n",
       "      <td>8.0</td>\n",
       "      <td>Basic</td>\n",
       "      <td>Monthly</td>\n",
       "      <td>557.0</td>\n",
       "      <td>6.0</td>\n",
       "      <td>1.0</td>\n",
       "    </tr>\n",
       "    <tr>\n",
       "      <th>2</th>\n",
       "      <td>4.0</td>\n",
       "      <td>55.0</td>\n",
       "      <td>Female</td>\n",
       "      <td>14.0</td>\n",
       "      <td>4.0</td>\n",
       "      <td>6.0</td>\n",
       "      <td>18.0</td>\n",
       "      <td>Basic</td>\n",
       "      <td>Quarterly</td>\n",
       "      <td>185.0</td>\n",
       "      <td>3.0</td>\n",
       "      <td>1.0</td>\n",
       "    </tr>\n",
       "    <tr>\n",
       "      <th>3</th>\n",
       "      <td>5.0</td>\n",
       "      <td>58.0</td>\n",
       "      <td>Male</td>\n",
       "      <td>38.0</td>\n",
       "      <td>21.0</td>\n",
       "      <td>7.0</td>\n",
       "      <td>7.0</td>\n",
       "      <td>Standard</td>\n",
       "      <td>Monthly</td>\n",
       "      <td>396.0</td>\n",
       "      <td>29.0</td>\n",
       "      <td>1.0</td>\n",
       "    </tr>\n",
       "    <tr>\n",
       "      <th>4</th>\n",
       "      <td>6.0</td>\n",
       "      <td>23.0</td>\n",
       "      <td>Male</td>\n",
       "      <td>32.0</td>\n",
       "      <td>20.0</td>\n",
       "      <td>5.0</td>\n",
       "      <td>8.0</td>\n",
       "      <td>Basic</td>\n",
       "      <td>Monthly</td>\n",
       "      <td>617.0</td>\n",
       "      <td>20.0</td>\n",
       "      <td>1.0</td>\n",
       "    </tr>\n",
       "  </tbody>\n",
       "</table>\n",
       "</div>"
      ],
      "text/plain": [
       "   CustomerID   Age  Gender  Tenure  Usage Frequency  Support Calls  \\\n",
       "0         2.0  30.0  Female    39.0             14.0            5.0   \n",
       "1         3.0  65.0  Female    49.0              1.0           10.0   \n",
       "2         4.0  55.0  Female    14.0              4.0            6.0   \n",
       "3         5.0  58.0    Male    38.0             21.0            7.0   \n",
       "4         6.0  23.0    Male    32.0             20.0            5.0   \n",
       "\n",
       "   Payment Delay Subscription Type Contract Length  Total Spend  \\\n",
       "0           18.0          Standard          Annual        932.0   \n",
       "1            8.0             Basic         Monthly        557.0   \n",
       "2           18.0             Basic       Quarterly        185.0   \n",
       "3            7.0          Standard         Monthly        396.0   \n",
       "4            8.0             Basic         Monthly        617.0   \n",
       "\n",
       "   Last Interaction  Churn  \n",
       "0              17.0    1.0  \n",
       "1               6.0    1.0  \n",
       "2               3.0    1.0  \n",
       "3              29.0    1.0  \n",
       "4              20.0    1.0  "
      ]
     },
     "execution_count": 3,
     "metadata": {},
     "output_type": "execute_result"
    }
   ],
   "source": [
    "train_data.head()"
   ]
  },
  {
   "cell_type": "markdown",
   "id": "ca0c3e6c",
   "metadata": {
    "papermill": {
     "duration": 0.006951,
     "end_time": "2024-11-21T14:01:40.362884",
     "exception": false,
     "start_time": "2024-11-21T14:01:40.355933",
     "status": "completed"
    },
    "tags": []
   },
   "source": [
    "**3. Exploring the data**\n",
    "\n",
    "\n"
   ]
  },
  {
   "cell_type": "markdown",
   "id": "b8d3a183",
   "metadata": {
    "papermill": {
     "duration": 0.007004,
     "end_time": "2024-11-21T14:01:40.377161",
     "exception": false,
     "start_time": "2024-11-21T14:01:40.370157",
     "status": "completed"
    },
    "tags": []
   },
   "source": [
    "* info() is used to get the basic information about the data like columns, datatype and null value.\n"
   ]
  },
  {
   "cell_type": "code",
   "execution_count": 4,
   "id": "8afe21f1",
   "metadata": {
    "execution": {
     "iopub.execute_input": "2024-11-21T14:01:40.393890Z",
     "iopub.status.busy": "2024-11-21T14:01:40.393484Z",
     "iopub.status.idle": "2024-11-21T14:01:40.488932Z",
     "shell.execute_reply": "2024-11-21T14:01:40.487652Z"
    },
    "papermill": {
     "duration": 0.106568,
     "end_time": "2024-11-21T14:01:40.491151",
     "exception": false,
     "start_time": "2024-11-21T14:01:40.384583",
     "status": "completed"
    },
    "tags": []
   },
   "outputs": [
    {
     "name": "stdout",
     "output_type": "stream",
     "text": [
      "<class 'pandas.core.frame.DataFrame'>\n",
      "RangeIndex: 440833 entries, 0 to 440832\n",
      "Data columns (total 12 columns):\n",
      " #   Column             Non-Null Count   Dtype  \n",
      "---  ------             --------------   -----  \n",
      " 0   CustomerID         440832 non-null  float64\n",
      " 1   Age                440832 non-null  float64\n",
      " 2   Gender             440832 non-null  object \n",
      " 3   Tenure             440832 non-null  float64\n",
      " 4   Usage Frequency    440832 non-null  float64\n",
      " 5   Support Calls      440832 non-null  float64\n",
      " 6   Payment Delay      440832 non-null  float64\n",
      " 7   Subscription Type  440832 non-null  object \n",
      " 8   Contract Length    440832 non-null  object \n",
      " 9   Total Spend        440832 non-null  float64\n",
      " 10  Last Interaction   440832 non-null  float64\n",
      " 11  Churn              440832 non-null  float64\n",
      "dtypes: float64(9), object(3)\n",
      "memory usage: 40.4+ MB\n",
      "None\n"
     ]
    }
   ],
   "source": [
    "print(train_data.info())"
   ]
  },
  {
   "cell_type": "markdown",
   "id": "5e354536",
   "metadata": {
    "papermill": {
     "duration": 0.006795,
     "end_time": "2024-11-21T14:01:40.505434",
     "exception": false,
     "start_time": "2024-11-21T14:01:40.498639",
     "status": "completed"
    },
    "tags": []
   },
   "source": [
    "* describe() is used to get the statistical information like mean , min , max etc.\n"
   ]
  },
  {
   "cell_type": "code",
   "execution_count": 5,
   "id": "ef1fdf8c",
   "metadata": {
    "execution": {
     "iopub.execute_input": "2024-11-21T14:01:40.521841Z",
     "iopub.status.busy": "2024-11-21T14:01:40.521024Z",
     "iopub.status.idle": "2024-11-21T14:01:40.762563Z",
     "shell.execute_reply": "2024-11-21T14:01:40.761102Z"
    },
    "papermill": {
     "duration": 0.252795,
     "end_time": "2024-11-21T14:01:40.765324",
     "exception": false,
     "start_time": "2024-11-21T14:01:40.512529",
     "status": "completed"
    },
    "tags": []
   },
   "outputs": [
    {
     "name": "stdout",
     "output_type": "stream",
     "text": [
      "          CustomerID            Age         Tenure  Usage Frequency  \\\n",
      "count  440832.000000  440832.000000  440832.000000    440832.000000   \n",
      "mean   225398.667955      39.373153      31.256336        15.807494   \n",
      "std    129531.918550      12.442369      17.255727         8.586242   \n",
      "min         2.000000      18.000000       1.000000         1.000000   \n",
      "25%    113621.750000      29.000000      16.000000         9.000000   \n",
      "50%    226125.500000      39.000000      32.000000        16.000000   \n",
      "75%    337739.250000      48.000000      46.000000        23.000000   \n",
      "max    449999.000000      65.000000      60.000000        30.000000   \n",
      "\n",
      "       Support Calls  Payment Delay    Total Spend  Last Interaction  \\\n",
      "count  440832.000000  440832.000000  440832.000000     440832.000000   \n",
      "mean        3.604437      12.965722     631.616223         14.480868   \n",
      "std         3.070218       8.258063     240.803001          8.596208   \n",
      "min         0.000000       0.000000     100.000000          1.000000   \n",
      "25%         1.000000       6.000000     480.000000          7.000000   \n",
      "50%         3.000000      12.000000     661.000000         14.000000   \n",
      "75%         6.000000      19.000000     830.000000         22.000000   \n",
      "max        10.000000      30.000000    1000.000000         30.000000   \n",
      "\n",
      "               Churn  \n",
      "count  440832.000000  \n",
      "mean        0.567107  \n",
      "std         0.495477  \n",
      "min         0.000000  \n",
      "25%         0.000000  \n",
      "50%         1.000000  \n",
      "75%         1.000000  \n",
      "max         1.000000  \n"
     ]
    }
   ],
   "source": [
    "print(train_data.describe())"
   ]
  },
  {
   "cell_type": "markdown",
   "id": "46264a23",
   "metadata": {
    "papermill": {
     "duration": 0.006943,
     "end_time": "2024-11-21T14:01:40.779722",
     "exception": false,
     "start_time": "2024-11-21T14:01:40.772779",
     "status": "completed"
    },
    "tags": []
   },
   "source": [
    "**4. Data Preprocessing Function**\n"
   ]
  },
  {
   "cell_type": "markdown",
   "id": "ee880239",
   "metadata": {
    "papermill": {
     "duration": 0.006897,
     "end_time": "2024-11-21T14:01:40.793820",
     "exception": false,
     "start_time": "2024-11-21T14:01:40.786923",
     "status": "completed"
    },
    "tags": []
   },
   "source": [
    "Defining a function name preprocess_data so that multi processing can be done in single function.\n",
    "\n",
    "* Handling the missing values and filling it with the median for only numerical columns.\n",
    "* Using LabelEncoder to change the gender(categorical value) to numberical value for example male=1 ,female=0.\n",
    "* Saving CustomerID separately and droping it from the main DataFrame as it is irrelevant."
   ]
  },
  {
   "cell_type": "code",
   "execution_count": 6,
   "id": "ebe6225d",
   "metadata": {
    "execution": {
     "iopub.execute_input": "2024-11-21T14:01:40.811107Z",
     "iopub.status.busy": "2024-11-21T14:01:40.810080Z",
     "iopub.status.idle": "2024-11-21T14:01:40.817067Z",
     "shell.execute_reply": "2024-11-21T14:01:40.815969Z"
    },
    "papermill": {
     "duration": 0.018037,
     "end_time": "2024-11-21T14:01:40.819429",
     "exception": false,
     "start_time": "2024-11-21T14:01:40.801392",
     "status": "completed"
    },
    "tags": []
   },
   "outputs": [],
   "source": [
    "def preprocess_data(data):\n",
    "    numberic_columns=data.select_dtypes(include=['number']).columns\n",
    "    data[numberic_columns]=data[numberic_columns].fillna(data[numberic_columns].median())\n",
    "    if 'Gender' in data.columns:\n",
    "        label_enc=LabelEncoder()\n",
    "        data['Gender']=label_enc.fit_transform(data['Gender'])\n",
    "    if 'CustomerID'in data.columns:\n",
    "        data['CustomerID'] = data['CustomerID']\n",
    "    data = pd.get_dummies(data, drop_first=True)  \n",
    "    return data\n",
    "        "
   ]
  },
  {
   "cell_type": "markdown",
   "id": "3127c04d",
   "metadata": {
    "papermill": {
     "duration": 0.007555,
     "end_time": "2024-11-21T14:01:40.834292",
     "exception": false,
     "start_time": "2024-11-21T14:01:40.826737",
     "status": "completed"
    },
    "tags": []
   },
   "source": [
    "**5. Preprocessing the training and testing data**"
   ]
  },
  {
   "cell_type": "markdown",
   "id": "c7ede423",
   "metadata": {
    "papermill": {
     "duration": 0.007102,
     "end_time": "2024-11-21T14:01:40.849113",
     "exception": false,
     "start_time": "2024-11-21T14:01:40.842011",
     "status": "completed"
    },
    "tags": []
   },
   "source": [
    "* Cleans both trainig and testing data using the preprocessing function"
   ]
  },
  {
   "cell_type": "code",
   "execution_count": 7,
   "id": "5b8d7540",
   "metadata": {
    "execution": {
     "iopub.execute_input": "2024-11-21T14:01:40.866180Z",
     "iopub.status.busy": "2024-11-21T14:01:40.865313Z",
     "iopub.status.idle": "2024-11-21T14:01:41.324260Z",
     "shell.execute_reply": "2024-11-21T14:01:41.322900Z"
    },
    "papermill": {
     "duration": 0.470681,
     "end_time": "2024-11-21T14:01:41.327146",
     "exception": false,
     "start_time": "2024-11-21T14:01:40.856465",
     "status": "completed"
    },
    "tags": []
   },
   "outputs": [],
   "source": [
    "train_data=preprocess_data(train_data)\n",
    "X_test=preprocess_data(test_data)"
   ]
  },
  {
   "cell_type": "markdown",
   "id": "887aa6bf",
   "metadata": {
    "papermill": {
     "duration": 0.007332,
     "end_time": "2024-11-21T14:01:41.342338",
     "exception": false,
     "start_time": "2024-11-21T14:01:41.335006",
     "status": "completed"
    },
    "tags": []
   },
   "source": [
    "**6. Spliting Training Data into Features and Labels**"
   ]
  },
  {
   "cell_type": "markdown",
   "id": "f8b7a234",
   "metadata": {
    "papermill": {
     "duration": 0.007447,
     "end_time": "2024-11-21T14:01:41.358185",
     "exception": false,
     "start_time": "2024-11-21T14:01:41.350738",
     "status": "completed"
    },
    "tags": []
   },
   "source": [
    "* Features are the characteristics of the data that helps in training the model.\n",
    "* X: Predictors Variable.\n",
    "* Labels are also known as Target Variable that is the result classified based on Feature.(Returns 0 for no churn and 1 for churn)\n",
    "* Y: Target Variable."
   ]
  },
  {
   "cell_type": "code",
   "execution_count": 8,
   "id": "8e4ca4ca",
   "metadata": {
    "execution": {
     "iopub.execute_input": "2024-11-21T14:01:41.375359Z",
     "iopub.status.busy": "2024-11-21T14:01:41.375007Z",
     "iopub.status.idle": "2024-11-21T14:01:41.389010Z",
     "shell.execute_reply": "2024-11-21T14:01:41.387829Z"
    },
    "papermill": {
     "duration": 0.024887,
     "end_time": "2024-11-21T14:01:41.391455",
     "exception": false,
     "start_time": "2024-11-21T14:01:41.366568",
     "status": "completed"
    },
    "tags": []
   },
   "outputs": [],
   "source": [
    "X=train_data.drop(\"Churn\",axis=1)\n",
    "y=train_data[\"Churn\"]"
   ]
  },
  {
   "cell_type": "markdown",
   "id": "be2b7545",
   "metadata": {
    "papermill": {
     "duration": 0.007002,
     "end_time": "2024-11-21T14:01:41.405839",
     "exception": false,
     "start_time": "2024-11-21T14:01:41.398837",
     "status": "completed"
    },
    "tags": []
   },
   "source": [
    " * Ensure the test set has the same columns as training data"
   ]
  },
  {
   "cell_type": "code",
   "execution_count": 9,
   "id": "e66f3ed7",
   "metadata": {
    "execution": {
     "iopub.execute_input": "2024-11-21T14:01:41.422160Z",
     "iopub.status.busy": "2024-11-21T14:01:41.421731Z",
     "iopub.status.idle": "2024-11-21T14:01:41.428248Z",
     "shell.execute_reply": "2024-11-21T14:01:41.427135Z"
    },
    "papermill": {
     "duration": 0.017389,
     "end_time": "2024-11-21T14:01:41.430524",
     "exception": false,
     "start_time": "2024-11-21T14:01:41.413135",
     "status": "completed"
    },
    "tags": []
   },
   "outputs": [],
   "source": [
    "X_test = X_test.reindex(columns=X.columns, fill_value=0)"
   ]
  },
  {
   "cell_type": "markdown",
   "id": "3ade064a",
   "metadata": {
    "papermill": {
     "duration": 0.007087,
     "end_time": "2024-11-21T14:01:41.445206",
     "exception": false,
     "start_time": "2024-11-21T14:01:41.438119",
     "status": "completed"
    },
    "tags": []
   },
   "source": [
    "**7. Feature Scaling**"
   ]
  },
  {
   "cell_type": "markdown",
   "id": "72953225",
   "metadata": {
    "papermill": {
     "duration": 0.006982,
     "end_time": "2024-11-21T14:01:41.459529",
     "exception": false,
     "start_time": "2024-11-21T14:01:41.452547",
     "status": "completed"
    },
    "tags": []
   },
   "source": [
    "* Standardizing the data for better performance by normalizing the feature to have mean=0 and standard deviation=1."
   ]
  },
  {
   "cell_type": "code",
   "execution_count": 10,
   "id": "f846c878",
   "metadata": {
    "execution": {
     "iopub.execute_input": "2024-11-21T14:01:41.476594Z",
     "iopub.status.busy": "2024-11-21T14:01:41.476194Z",
     "iopub.status.idle": "2024-11-21T14:01:41.991727Z",
     "shell.execute_reply": "2024-11-21T14:01:41.990934Z"
    },
    "papermill": {
     "duration": 0.526549,
     "end_time": "2024-11-21T14:01:41.994089",
     "exception": false,
     "start_time": "2024-11-21T14:01:41.467540",
     "status": "completed"
    },
    "tags": []
   },
   "outputs": [],
   "source": [
    "scaler=StandardScaler()\n",
    "X_scaled=scaler.fit_transform(X)\n",
    "X_test_scaled=scaler.fit_transform(X_test)\n"
   ]
  },
  {
   "cell_type": "markdown",
   "id": "5b313f8e",
   "metadata": {
    "papermill": {
     "duration": 0.009693,
     "end_time": "2024-11-21T14:01:42.011770",
     "exception": false,
     "start_time": "2024-11-21T14:01:42.002077",
     "status": "completed"
    },
    "tags": []
   },
   "source": [
    "**8. Spliting the Data for Validation**"
   ]
  },
  {
   "cell_type": "markdown",
   "id": "1baee45e",
   "metadata": {
    "papermill": {
     "duration": 0.00709,
     "end_time": "2024-11-21T14:01:42.027288",
     "exception": false,
     "start_time": "2024-11-21T14:01:42.020198",
     "status": "completed"
    },
    "tags": []
   },
   "source": [
    "* Spliting the data into training(80%) and validation(20%) sets for model evaluation.\n"
   ]
  },
  {
   "cell_type": "code",
   "execution_count": 11,
   "id": "3d06a83e",
   "metadata": {
    "execution": {
     "iopub.execute_input": "2024-11-21T14:01:42.043523Z",
     "iopub.status.busy": "2024-11-21T14:01:42.043129Z",
     "iopub.status.idle": "2024-11-21T14:01:42.154215Z",
     "shell.execute_reply": "2024-11-21T14:01:42.152906Z"
    },
    "papermill": {
     "duration": 0.122159,
     "end_time": "2024-11-21T14:01:42.156714",
     "exception": false,
     "start_time": "2024-11-21T14:01:42.034555",
     "status": "completed"
    },
    "tags": []
   },
   "outputs": [],
   "source": [
    "X_train,X_val,y_train,y_val=train_test_split(X_scaled,y ,test_size=0.2 ,random_state=42)"
   ]
  },
  {
   "cell_type": "markdown",
   "id": "3c19824c",
   "metadata": {
    "papermill": {
     "duration": 0.007032,
     "end_time": "2024-11-21T14:01:42.171385",
     "exception": false,
     "start_time": "2024-11-21T14:01:42.164353",
     "status": "completed"
    },
    "tags": []
   },
   "source": [
    "**9. Model Training**"
   ]
  },
  {
   "cell_type": "markdown",
   "id": "92bbf9ec",
   "metadata": {
    "papermill": {
     "duration": 0.0071,
     "end_time": "2024-11-21T14:01:42.185924",
     "exception": false,
     "start_time": "2024-11-21T14:01:42.178824",
     "status": "completed"
    },
    "tags": []
   },
   "source": [
    "* **Random Forest:** Trainig random forest model with 100 decision trees."
   ]
  },
  {
   "cell_type": "code",
   "execution_count": 12,
   "id": "c9ac0b23",
   "metadata": {
    "execution": {
     "iopub.execute_input": "2024-11-21T14:01:42.202373Z",
     "iopub.status.busy": "2024-11-21T14:01:42.201959Z",
     "iopub.status.idle": "2024-11-21T14:02:11.404785Z",
     "shell.execute_reply": "2024-11-21T14:02:11.403621Z"
    },
    "papermill": {
     "duration": 29.213771,
     "end_time": "2024-11-21T14:02:11.407033",
     "exception": false,
     "start_time": "2024-11-21T14:01:42.193262",
     "status": "completed"
    },
    "tags": []
   },
   "outputs": [
    {
     "data": {
      "text/html": [
       "<style>#sk-container-id-1 {color: black;background-color: white;}#sk-container-id-1 pre{padding: 0;}#sk-container-id-1 div.sk-toggleable {background-color: white;}#sk-container-id-1 label.sk-toggleable__label {cursor: pointer;display: block;width: 100%;margin-bottom: 0;padding: 0.3em;box-sizing: border-box;text-align: center;}#sk-container-id-1 label.sk-toggleable__label-arrow:before {content: \"▸\";float: left;margin-right: 0.25em;color: #696969;}#sk-container-id-1 label.sk-toggleable__label-arrow:hover:before {color: black;}#sk-container-id-1 div.sk-estimator:hover label.sk-toggleable__label-arrow:before {color: black;}#sk-container-id-1 div.sk-toggleable__content {max-height: 0;max-width: 0;overflow: hidden;text-align: left;background-color: #f0f8ff;}#sk-container-id-1 div.sk-toggleable__content pre {margin: 0.2em;color: black;border-radius: 0.25em;background-color: #f0f8ff;}#sk-container-id-1 input.sk-toggleable__control:checked~div.sk-toggleable__content {max-height: 200px;max-width: 100%;overflow: auto;}#sk-container-id-1 input.sk-toggleable__control:checked~label.sk-toggleable__label-arrow:before {content: \"▾\";}#sk-container-id-1 div.sk-estimator input.sk-toggleable__control:checked~label.sk-toggleable__label {background-color: #d4ebff;}#sk-container-id-1 div.sk-label input.sk-toggleable__control:checked~label.sk-toggleable__label {background-color: #d4ebff;}#sk-container-id-1 input.sk-hidden--visually {border: 0;clip: rect(1px 1px 1px 1px);clip: rect(1px, 1px, 1px, 1px);height: 1px;margin: -1px;overflow: hidden;padding: 0;position: absolute;width: 1px;}#sk-container-id-1 div.sk-estimator {font-family: monospace;background-color: #f0f8ff;border: 1px dotted black;border-radius: 0.25em;box-sizing: border-box;margin-bottom: 0.5em;}#sk-container-id-1 div.sk-estimator:hover {background-color: #d4ebff;}#sk-container-id-1 div.sk-parallel-item::after {content: \"\";width: 100%;border-bottom: 1px solid gray;flex-grow: 1;}#sk-container-id-1 div.sk-label:hover label.sk-toggleable__label {background-color: #d4ebff;}#sk-container-id-1 div.sk-serial::before {content: \"\";position: absolute;border-left: 1px solid gray;box-sizing: border-box;top: 0;bottom: 0;left: 50%;z-index: 0;}#sk-container-id-1 div.sk-serial {display: flex;flex-direction: column;align-items: center;background-color: white;padding-right: 0.2em;padding-left: 0.2em;position: relative;}#sk-container-id-1 div.sk-item {position: relative;z-index: 1;}#sk-container-id-1 div.sk-parallel {display: flex;align-items: stretch;justify-content: center;background-color: white;position: relative;}#sk-container-id-1 div.sk-item::before, #sk-container-id-1 div.sk-parallel-item::before {content: \"\";position: absolute;border-left: 1px solid gray;box-sizing: border-box;top: 0;bottom: 0;left: 50%;z-index: -1;}#sk-container-id-1 div.sk-parallel-item {display: flex;flex-direction: column;z-index: 1;position: relative;background-color: white;}#sk-container-id-1 div.sk-parallel-item:first-child::after {align-self: flex-end;width: 50%;}#sk-container-id-1 div.sk-parallel-item:last-child::after {align-self: flex-start;width: 50%;}#sk-container-id-1 div.sk-parallel-item:only-child::after {width: 0;}#sk-container-id-1 div.sk-dashed-wrapped {border: 1px dashed gray;margin: 0 0.4em 0.5em 0.4em;box-sizing: border-box;padding-bottom: 0.4em;background-color: white;}#sk-container-id-1 div.sk-label label {font-family: monospace;font-weight: bold;display: inline-block;line-height: 1.2em;}#sk-container-id-1 div.sk-label-container {text-align: center;}#sk-container-id-1 div.sk-container {/* jupyter's `normalize.less` sets `[hidden] { display: none; }` but bootstrap.min.css set `[hidden] { display: none !important; }` so we also need the `!important` here to be able to override the default hidden behavior on the sphinx rendered scikit-learn.org. See: https://github.com/scikit-learn/scikit-learn/issues/21755 */display: inline-block !important;position: relative;}#sk-container-id-1 div.sk-text-repr-fallback {display: none;}</style><div id=\"sk-container-id-1\" class=\"sk-top-container\"><div class=\"sk-text-repr-fallback\"><pre>RandomForestClassifier(random_state=42)</pre><b>In a Jupyter environment, please rerun this cell to show the HTML representation or trust the notebook. <br />On GitHub, the HTML representation is unable to render, please try loading this page with nbviewer.org.</b></div><div class=\"sk-container\" hidden><div class=\"sk-item\"><div class=\"sk-estimator sk-toggleable\"><input class=\"sk-toggleable__control sk-hidden--visually\" id=\"sk-estimator-id-1\" type=\"checkbox\" checked><label for=\"sk-estimator-id-1\" class=\"sk-toggleable__label sk-toggleable__label-arrow\">RandomForestClassifier</label><div class=\"sk-toggleable__content\"><pre>RandomForestClassifier(random_state=42)</pre></div></div></div></div></div>"
      ],
      "text/plain": [
       "RandomForestClassifier(random_state=42)"
      ]
     },
     "execution_count": 12,
     "metadata": {},
     "output_type": "execute_result"
    }
   ],
   "source": [
    "rf_model=RandomForestClassifier(n_estimators=100 , random_state=42)\n",
    "rf_model.fit(X_train,y_train)"
   ]
  },
  {
   "cell_type": "markdown",
   "id": "8f3abc80",
   "metadata": {
    "papermill": {
     "duration": 0.007159,
     "end_time": "2024-11-21T14:02:11.421974",
     "exception": false,
     "start_time": "2024-11-21T14:02:11.414815",
     "status": "completed"
    },
    "tags": []
   },
   "source": [
    "* **Gradient Boosting :** Training Gradient Boosting model with 100 estimators and 0.1 learning rate."
   ]
  },
  {
   "cell_type": "code",
   "execution_count": 13,
   "id": "b498e5c2",
   "metadata": {
    "execution": {
     "iopub.execute_input": "2024-11-21T14:02:11.438805Z",
     "iopub.status.busy": "2024-11-21T14:02:11.438393Z",
     "iopub.status.idle": "2024-11-21T14:03:44.444101Z",
     "shell.execute_reply": "2024-11-21T14:03:44.442535Z"
    },
    "papermill": {
     "duration": 93.026955,
     "end_time": "2024-11-21T14:03:44.456439",
     "exception": false,
     "start_time": "2024-11-21T14:02:11.429484",
     "status": "completed"
    },
    "tags": []
   },
   "outputs": [
    {
     "data": {
      "text/html": [
       "<style>#sk-container-id-2 {color: black;background-color: white;}#sk-container-id-2 pre{padding: 0;}#sk-container-id-2 div.sk-toggleable {background-color: white;}#sk-container-id-2 label.sk-toggleable__label {cursor: pointer;display: block;width: 100%;margin-bottom: 0;padding: 0.3em;box-sizing: border-box;text-align: center;}#sk-container-id-2 label.sk-toggleable__label-arrow:before {content: \"▸\";float: left;margin-right: 0.25em;color: #696969;}#sk-container-id-2 label.sk-toggleable__label-arrow:hover:before {color: black;}#sk-container-id-2 div.sk-estimator:hover label.sk-toggleable__label-arrow:before {color: black;}#sk-container-id-2 div.sk-toggleable__content {max-height: 0;max-width: 0;overflow: hidden;text-align: left;background-color: #f0f8ff;}#sk-container-id-2 div.sk-toggleable__content pre {margin: 0.2em;color: black;border-radius: 0.25em;background-color: #f0f8ff;}#sk-container-id-2 input.sk-toggleable__control:checked~div.sk-toggleable__content {max-height: 200px;max-width: 100%;overflow: auto;}#sk-container-id-2 input.sk-toggleable__control:checked~label.sk-toggleable__label-arrow:before {content: \"▾\";}#sk-container-id-2 div.sk-estimator input.sk-toggleable__control:checked~label.sk-toggleable__label {background-color: #d4ebff;}#sk-container-id-2 div.sk-label input.sk-toggleable__control:checked~label.sk-toggleable__label {background-color: #d4ebff;}#sk-container-id-2 input.sk-hidden--visually {border: 0;clip: rect(1px 1px 1px 1px);clip: rect(1px, 1px, 1px, 1px);height: 1px;margin: -1px;overflow: hidden;padding: 0;position: absolute;width: 1px;}#sk-container-id-2 div.sk-estimator {font-family: monospace;background-color: #f0f8ff;border: 1px dotted black;border-radius: 0.25em;box-sizing: border-box;margin-bottom: 0.5em;}#sk-container-id-2 div.sk-estimator:hover {background-color: #d4ebff;}#sk-container-id-2 div.sk-parallel-item::after {content: \"\";width: 100%;border-bottom: 1px solid gray;flex-grow: 1;}#sk-container-id-2 div.sk-label:hover label.sk-toggleable__label {background-color: #d4ebff;}#sk-container-id-2 div.sk-serial::before {content: \"\";position: absolute;border-left: 1px solid gray;box-sizing: border-box;top: 0;bottom: 0;left: 50%;z-index: 0;}#sk-container-id-2 div.sk-serial {display: flex;flex-direction: column;align-items: center;background-color: white;padding-right: 0.2em;padding-left: 0.2em;position: relative;}#sk-container-id-2 div.sk-item {position: relative;z-index: 1;}#sk-container-id-2 div.sk-parallel {display: flex;align-items: stretch;justify-content: center;background-color: white;position: relative;}#sk-container-id-2 div.sk-item::before, #sk-container-id-2 div.sk-parallel-item::before {content: \"\";position: absolute;border-left: 1px solid gray;box-sizing: border-box;top: 0;bottom: 0;left: 50%;z-index: -1;}#sk-container-id-2 div.sk-parallel-item {display: flex;flex-direction: column;z-index: 1;position: relative;background-color: white;}#sk-container-id-2 div.sk-parallel-item:first-child::after {align-self: flex-end;width: 50%;}#sk-container-id-2 div.sk-parallel-item:last-child::after {align-self: flex-start;width: 50%;}#sk-container-id-2 div.sk-parallel-item:only-child::after {width: 0;}#sk-container-id-2 div.sk-dashed-wrapped {border: 1px dashed gray;margin: 0 0.4em 0.5em 0.4em;box-sizing: border-box;padding-bottom: 0.4em;background-color: white;}#sk-container-id-2 div.sk-label label {font-family: monospace;font-weight: bold;display: inline-block;line-height: 1.2em;}#sk-container-id-2 div.sk-label-container {text-align: center;}#sk-container-id-2 div.sk-container {/* jupyter's `normalize.less` sets `[hidden] { display: none; }` but bootstrap.min.css set `[hidden] { display: none !important; }` so we also need the `!important` here to be able to override the default hidden behavior on the sphinx rendered scikit-learn.org. See: https://github.com/scikit-learn/scikit-learn/issues/21755 */display: inline-block !important;position: relative;}#sk-container-id-2 div.sk-text-repr-fallback {display: none;}</style><div id=\"sk-container-id-2\" class=\"sk-top-container\"><div class=\"sk-text-repr-fallback\"><pre>GradientBoostingClassifier()</pre><b>In a Jupyter environment, please rerun this cell to show the HTML representation or trust the notebook. <br />On GitHub, the HTML representation is unable to render, please try loading this page with nbviewer.org.</b></div><div class=\"sk-container\" hidden><div class=\"sk-item\"><div class=\"sk-estimator sk-toggleable\"><input class=\"sk-toggleable__control sk-hidden--visually\" id=\"sk-estimator-id-2\" type=\"checkbox\" checked><label for=\"sk-estimator-id-2\" class=\"sk-toggleable__label sk-toggleable__label-arrow\">GradientBoostingClassifier</label><div class=\"sk-toggleable__content\"><pre>GradientBoostingClassifier()</pre></div></div></div></div></div>"
      ],
      "text/plain": [
       "GradientBoostingClassifier()"
      ]
     },
     "execution_count": 13,
     "metadata": {},
     "output_type": "execute_result"
    }
   ],
   "source": [
    "gb_model=GradientBoostingClassifier(n_estimators=100 ,learning_rate=0.1)\n",
    "gb_model.fit(X_train,y_train)"
   ]
  },
  {
   "cell_type": "markdown",
   "id": "12abcf2b",
   "metadata": {
    "papermill": {
     "duration": 0.008304,
     "end_time": "2024-11-21T14:03:44.473382",
     "exception": false,
     "start_time": "2024-11-21T14:03:44.465078",
     "status": "completed"
    },
    "tags": []
   },
   "source": [
    "**10. Evaluating the model**"
   ]
  },
  {
   "cell_type": "markdown",
   "id": "6055a3eb",
   "metadata": {
    "papermill": {
     "duration": 0.009002,
     "end_time": "2024-11-21T14:03:44.491216",
     "exception": false,
     "start_time": "2024-11-21T14:03:44.482214",
     "status": "completed"
    },
    "tags": []
   },
   "source": [
    "* Makes the prediction on validating sets and computing the accuracy score,confusion matrix and classification report for both the models."
   ]
  },
  {
   "cell_type": "code",
   "execution_count": 14,
   "id": "9aca7eb7",
   "metadata": {
    "execution": {
     "iopub.execute_input": "2024-11-21T14:03:44.509758Z",
     "iopub.status.busy": "2024-11-21T14:03:44.509358Z",
     "iopub.status.idle": "2024-11-21T14:03:46.039329Z",
     "shell.execute_reply": "2024-11-21T14:03:46.037048Z"
    },
    "papermill": {
     "duration": 1.544637,
     "end_time": "2024-11-21T14:03:46.044073",
     "exception": false,
     "start_time": "2024-11-21T14:03:44.499436",
     "status": "completed"
    },
    "tags": []
   },
   "outputs": [
    {
     "name": "stdout",
     "output_type": "stream",
     "text": [
      "Random Forest Accuracy Score:  0.9995122891784908\n",
      "Gradient Boosting Accuracy Score:  0.9988090782265473\n",
      "Random Forest Confusion Matrix: \n",
      " [[38113    30]\n",
      " [   13 50011]]\n",
      "Gradient Boosting Confusion Matrix: \n",
      " [[38070    73]\n",
      " [   32 49992]]\n",
      "Random Forest Classification Report: \n",
      "               precision    recall  f1-score   support\n",
      "\n",
      "         0.0       1.00      1.00      1.00     38143\n",
      "         1.0       1.00      1.00      1.00     50024\n",
      "\n",
      "    accuracy                           1.00     88167\n",
      "   macro avg       1.00      1.00      1.00     88167\n",
      "weighted avg       1.00      1.00      1.00     88167\n",
      "\n",
      "Gradient Boosting Classification Report: \n",
      "               precision    recall  f1-score   support\n",
      "\n",
      "         0.0       1.00      1.00      1.00     38143\n",
      "         1.0       1.00      1.00      1.00     50024\n",
      "\n",
      "    accuracy                           1.00     88167\n",
      "   macro avg       1.00      1.00      1.00     88167\n",
      "weighted avg       1.00      1.00      1.00     88167\n",
      "\n"
     ]
    }
   ],
   "source": [
    "rf_preds=rf_model.predict(X_val)\n",
    "gb_preds=gb_model.predict(X_val)\n",
    "# Accuracy scores\n",
    "print(\"Random Forest Accuracy Score: \", accuracy_score(y_val, rf_preds))\n",
    "print(\"Gradient Boosting Accuracy Score: \", accuracy_score(y_val, gb_preds))\n",
    "\n",
    "# Confusion matrices\n",
    "print(\"Random Forest Confusion Matrix: \\n\", confusion_matrix(y_val, rf_preds))\n",
    "print(\"Gradient Boosting Confusion Matrix: \\n\", confusion_matrix(y_val, gb_preds))\n",
    "\n",
    "# Classification Reports\n",
    "print(\"Random Forest Classification Report: \\n\", classification_report(y_val, rf_preds))\n",
    "print(\"Gradient Boosting Classification Report: \\n\", classification_report(y_val, gb_preds))"
   ]
  },
  {
   "cell_type": "markdown",
   "id": "ce5164f9",
   "metadata": {
    "papermill": {
     "duration": 0.007816,
     "end_time": "2024-11-21T14:03:46.061220",
     "exception": false,
     "start_time": "2024-11-21T14:03:46.053404",
     "status": "completed"
    },
    "tags": []
   },
   "source": [
    "**11. Selecting the best model**"
   ]
  },
  {
   "cell_type": "markdown",
   "id": "9a8abecb",
   "metadata": {
    "papermill": {
     "duration": 0.008395,
     "end_time": "2024-11-21T14:03:46.078037",
     "exception": false,
     "start_time": "2024-11-21T14:03:46.069642",
     "status": "completed"
    },
    "tags": []
   },
   "source": [
    "* Both models score are good but choosing Gradient Boosting model as it has more score than Random Forest .\n",
    "* Using Gradient Boosting as a final Model for final Predictions."
   ]
  },
  {
   "cell_type": "code",
   "execution_count": 15,
   "id": "a798168d",
   "metadata": {
    "execution": {
     "iopub.execute_input": "2024-11-21T14:03:46.097575Z",
     "iopub.status.busy": "2024-11-21T14:03:46.097134Z",
     "iopub.status.idle": "2024-11-21T14:03:46.103717Z",
     "shell.execute_reply": "2024-11-21T14:03:46.102381Z"
    },
    "papermill": {
     "duration": 0.020107,
     "end_time": "2024-11-21T14:03:46.106910",
     "exception": false,
     "start_time": "2024-11-21T14:03:46.086803",
     "status": "completed"
    },
    "tags": []
   },
   "outputs": [],
   "source": [
    "final_model=gb_model"
   ]
  },
  {
   "cell_type": "markdown",
   "id": "79ff4594",
   "metadata": {
    "papermill": {
     "duration": 0.007726,
     "end_time": "2024-11-21T14:03:46.122938",
     "exception": false,
     "start_time": "2024-11-21T14:03:46.115212",
     "status": "completed"
    },
    "tags": []
   },
   "source": [
    "**12. Prediction on Test Data**"
   ]
  },
  {
   "cell_type": "markdown",
   "id": "b7dc16dc",
   "metadata": {
    "papermill": {
     "duration": 0.007759,
     "end_time": "2024-11-21T14:03:46.139129",
     "exception": false,
     "start_time": "2024-11-21T14:03:46.131370",
     "status": "completed"
    },
    "tags": []
   },
   "source": [
    "* Predicts churn for test data."
   ]
  },
  {
   "cell_type": "code",
   "execution_count": 16,
   "id": "0f082766",
   "metadata": {
    "execution": {
     "iopub.execute_input": "2024-11-21T14:03:46.157491Z",
     "iopub.status.busy": "2024-11-21T14:03:46.157087Z",
     "iopub.status.idle": "2024-11-21T14:03:46.287355Z",
     "shell.execute_reply": "2024-11-21T14:03:46.286103Z"
    },
    "papermill": {
     "duration": 0.142878,
     "end_time": "2024-11-21T14:03:46.289968",
     "exception": false,
     "start_time": "2024-11-21T14:03:46.147090",
     "status": "completed"
    },
    "tags": []
   },
   "outputs": [],
   "source": [
    "test_preds=final_model.predict(X_test_scaled)"
   ]
  },
  {
   "cell_type": "markdown",
   "id": "c57c041e",
   "metadata": {
    "papermill": {
     "duration": 0.008432,
     "end_time": "2024-11-21T14:03:46.306844",
     "exception": false,
     "start_time": "2024-11-21T14:03:46.298412",
     "status": "completed"
    },
    "tags": []
   },
   "source": [
    "**Saving the Final Output in Csv**"
   ]
  },
  {
   "cell_type": "code",
   "execution_count": 17,
   "id": "6f0b5a8a",
   "metadata": {
    "execution": {
     "iopub.execute_input": "2024-11-21T14:03:46.326127Z",
     "iopub.status.busy": "2024-11-21T14:03:46.325683Z",
     "iopub.status.idle": "2024-11-21T14:03:46.409245Z",
     "shell.execute_reply": "2024-11-21T14:03:46.407571Z"
    },
    "papermill": {
     "duration": 0.096736,
     "end_time": "2024-11-21T14:03:46.412040",
     "exception": false,
     "start_time": "2024-11-21T14:03:46.315304",
     "status": "completed"
    },
    "tags": []
   },
   "outputs": [
    {
     "name": "stdout",
     "output_type": "stream",
     "text": [
      "Predictions saved to churn_predictions.csv\n"
     ]
    }
   ],
   "source": [
    "output=pd.DataFrame({'CustomerID':test_data['CustomerID'],'churn_prediction':test_preds})\n",
    "output.to_csv('churn_predictions.csv',index=False)\n",
    "print(\"Predictions saved to churn_predictions.csv\")\n"
   ]
  }
 ],
 "metadata": {
  "kaggle": {
   "accelerator": "none",
   "dataSources": [
    {
     "datasetId": 3404076,
     "sourceId": 5929113,
     "sourceType": "datasetVersion"
    }
   ],
   "dockerImageVersionId": 30786,
   "isGpuEnabled": false,
   "isInternetEnabled": true,
   "language": "python",
   "sourceType": "notebook"
  },
  "kernelspec": {
   "display_name": "Python 3",
   "language": "python",
   "name": "python3"
  },
  "language_info": {
   "codemirror_mode": {
    "name": "ipython",
    "version": 3
   },
   "file_extension": ".py",
   "mimetype": "text/x-python",
   "name": "python",
   "nbconvert_exporter": "python",
   "pygments_lexer": "ipython3",
   "version": "3.10.14"
  },
  "papermill": {
   "default_parameters": {},
   "duration": 133.724839,
   "end_time": "2024-11-21T14:03:47.143123",
   "environment_variables": {},
   "exception": null,
   "input_path": "__notebook__.ipynb",
   "output_path": "__notebook__.ipynb",
   "parameters": {},
   "start_time": "2024-11-21T14:01:33.418284",
   "version": "2.6.0"
  }
 },
 "nbformat": 4,
 "nbformat_minor": 5
}
